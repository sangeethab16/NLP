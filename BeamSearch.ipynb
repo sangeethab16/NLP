{
  "nbformat": 4,
  "nbformat_minor": 0,
  "metadata": {
    "colab": {
      "name": "BeamSearch.ipynb",
      "provenance": [],
      "collapsed_sections": []
    },
    "kernelspec": {
      "name": "python3",
      "display_name": "Python 3"
    },
    "language_info": {
      "name": "python"
    },
    "accelerator": "GPU",
    "widgets": {
      "application/vnd.jupyter.widget-state+json": {
        "8a241bfbd840417c970f411ac48a3385": {
          "model_module": "@jupyter-widgets/controls",
          "model_name": "HBoxModel",
          "state": {
            "_view_name": "HBoxView",
            "_dom_classes": [],
            "_model_name": "HBoxModel",
            "_view_module": "@jupyter-widgets/controls",
            "_model_module_version": "1.5.0",
            "_view_count": null,
            "_view_module_version": "1.5.0",
            "box_style": "",
            "layout": "IPY_MODEL_a92bcb57fb104662b413419437707c55",
            "_model_module": "@jupyter-widgets/controls",
            "children": [
              "IPY_MODEL_565290379f6040d082fb23d77bf185a2",
              "IPY_MODEL_6f2d103e15204ccfb87a8e3fddbaaebd"
            ]
          }
        },
        "a92bcb57fb104662b413419437707c55": {
          "model_module": "@jupyter-widgets/base",
          "model_name": "LayoutModel",
          "state": {
            "_view_name": "LayoutView",
            "grid_template_rows": null,
            "right": null,
            "justify_content": null,
            "_view_module": "@jupyter-widgets/base",
            "overflow": null,
            "_model_module_version": "1.2.0",
            "_view_count": null,
            "flex_flow": null,
            "width": null,
            "min_width": null,
            "border": null,
            "align_items": null,
            "bottom": null,
            "_model_module": "@jupyter-widgets/base",
            "top": null,
            "grid_column": null,
            "overflow_y": null,
            "overflow_x": null,
            "grid_auto_flow": null,
            "grid_area": null,
            "grid_template_columns": null,
            "flex": null,
            "_model_name": "LayoutModel",
            "justify_items": null,
            "grid_row": null,
            "max_height": null,
            "align_content": null,
            "visibility": null,
            "align_self": null,
            "height": null,
            "min_height": null,
            "padding": null,
            "grid_auto_rows": null,
            "grid_gap": null,
            "max_width": null,
            "order": null,
            "_view_module_version": "1.2.0",
            "grid_template_areas": null,
            "object_position": null,
            "object_fit": null,
            "grid_auto_columns": null,
            "margin": null,
            "display": null,
            "left": null
          }
        },
        "565290379f6040d082fb23d77bf185a2": {
          "model_module": "@jupyter-widgets/controls",
          "model_name": "FloatProgressModel",
          "state": {
            "_view_name": "ProgressView",
            "style": "IPY_MODEL_0103899b9e144781a6428e141ac14084",
            "_dom_classes": [],
            "description": "Downloading: 100%",
            "_model_name": "FloatProgressModel",
            "bar_style": "success",
            "max": 1042301,
            "_view_module": "@jupyter-widgets/controls",
            "_model_module_version": "1.5.0",
            "value": 1042301,
            "_view_count": null,
            "_view_module_version": "1.5.0",
            "orientation": "horizontal",
            "min": 0,
            "description_tooltip": null,
            "_model_module": "@jupyter-widgets/controls",
            "layout": "IPY_MODEL_3f8016ce7f6d4cb39c3a62fb6642700e"
          }
        },
        "6f2d103e15204ccfb87a8e3fddbaaebd": {
          "model_module": "@jupyter-widgets/controls",
          "model_name": "HTMLModel",
          "state": {
            "_view_name": "HTMLView",
            "style": "IPY_MODEL_834921ef650c4afcb128e82adb5afcb0",
            "_dom_classes": [],
            "description": "",
            "_model_name": "HTMLModel",
            "placeholder": "​",
            "_view_module": "@jupyter-widgets/controls",
            "_model_module_version": "1.5.0",
            "value": " 1.04M/1.04M [00:00&lt;00:00, 2.49MB/s]",
            "_view_count": null,
            "_view_module_version": "1.5.0",
            "description_tooltip": null,
            "_model_module": "@jupyter-widgets/controls",
            "layout": "IPY_MODEL_7c5c4c82f3f445ba8e5d53cefa864b91"
          }
        },
        "0103899b9e144781a6428e141ac14084": {
          "model_module": "@jupyter-widgets/controls",
          "model_name": "ProgressStyleModel",
          "state": {
            "_view_name": "StyleView",
            "_model_name": "ProgressStyleModel",
            "description_width": "initial",
            "_view_module": "@jupyter-widgets/base",
            "_model_module_version": "1.5.0",
            "_view_count": null,
            "_view_module_version": "1.2.0",
            "bar_color": null,
            "_model_module": "@jupyter-widgets/controls"
          }
        },
        "3f8016ce7f6d4cb39c3a62fb6642700e": {
          "model_module": "@jupyter-widgets/base",
          "model_name": "LayoutModel",
          "state": {
            "_view_name": "LayoutView",
            "grid_template_rows": null,
            "right": null,
            "justify_content": null,
            "_view_module": "@jupyter-widgets/base",
            "overflow": null,
            "_model_module_version": "1.2.0",
            "_view_count": null,
            "flex_flow": null,
            "width": null,
            "min_width": null,
            "border": null,
            "align_items": null,
            "bottom": null,
            "_model_module": "@jupyter-widgets/base",
            "top": null,
            "grid_column": null,
            "overflow_y": null,
            "overflow_x": null,
            "grid_auto_flow": null,
            "grid_area": null,
            "grid_template_columns": null,
            "flex": null,
            "_model_name": "LayoutModel",
            "justify_items": null,
            "grid_row": null,
            "max_height": null,
            "align_content": null,
            "visibility": null,
            "align_self": null,
            "height": null,
            "min_height": null,
            "padding": null,
            "grid_auto_rows": null,
            "grid_gap": null,
            "max_width": null,
            "order": null,
            "_view_module_version": "1.2.0",
            "grid_template_areas": null,
            "object_position": null,
            "object_fit": null,
            "grid_auto_columns": null,
            "margin": null,
            "display": null,
            "left": null
          }
        },
        "834921ef650c4afcb128e82adb5afcb0": {
          "model_module": "@jupyter-widgets/controls",
          "model_name": "DescriptionStyleModel",
          "state": {
            "_view_name": "StyleView",
            "_model_name": "DescriptionStyleModel",
            "description_width": "",
            "_view_module": "@jupyter-widgets/base",
            "_model_module_version": "1.5.0",
            "_view_count": null,
            "_view_module_version": "1.2.0",
            "_model_module": "@jupyter-widgets/controls"
          }
        },
        "7c5c4c82f3f445ba8e5d53cefa864b91": {
          "model_module": "@jupyter-widgets/base",
          "model_name": "LayoutModel",
          "state": {
            "_view_name": "LayoutView",
            "grid_template_rows": null,
            "right": null,
            "justify_content": null,
            "_view_module": "@jupyter-widgets/base",
            "overflow": null,
            "_model_module_version": "1.2.0",
            "_view_count": null,
            "flex_flow": null,
            "width": null,
            "min_width": null,
            "border": null,
            "align_items": null,
            "bottom": null,
            "_model_module": "@jupyter-widgets/base",
            "top": null,
            "grid_column": null,
            "overflow_y": null,
            "overflow_x": null,
            "grid_auto_flow": null,
            "grid_area": null,
            "grid_template_columns": null,
            "flex": null,
            "_model_name": "LayoutModel",
            "justify_items": null,
            "grid_row": null,
            "max_height": null,
            "align_content": null,
            "visibility": null,
            "align_self": null,
            "height": null,
            "min_height": null,
            "padding": null,
            "grid_auto_rows": null,
            "grid_gap": null,
            "max_width": null,
            "order": null,
            "_view_module_version": "1.2.0",
            "grid_template_areas": null,
            "object_position": null,
            "object_fit": null,
            "grid_auto_columns": null,
            "margin": null,
            "display": null,
            "left": null
          }
        },
        "47f30292fa5b4cd194197ab5832e0784": {
          "model_module": "@jupyter-widgets/controls",
          "model_name": "HBoxModel",
          "state": {
            "_view_name": "HBoxView",
            "_dom_classes": [],
            "_model_name": "HBoxModel",
            "_view_module": "@jupyter-widgets/controls",
            "_model_module_version": "1.5.0",
            "_view_count": null,
            "_view_module_version": "1.5.0",
            "box_style": "",
            "layout": "IPY_MODEL_2c4137b07ce8467ca9bcac95c9b7cadf",
            "_model_module": "@jupyter-widgets/controls",
            "children": [
              "IPY_MODEL_5fc5fd345ce44adc88bfa8b7a8b6e5b2",
              "IPY_MODEL_5161d49ef6034bffb1b07cbe871f5dfe"
            ]
          }
        },
        "2c4137b07ce8467ca9bcac95c9b7cadf": {
          "model_module": "@jupyter-widgets/base",
          "model_name": "LayoutModel",
          "state": {
            "_view_name": "LayoutView",
            "grid_template_rows": null,
            "right": null,
            "justify_content": null,
            "_view_module": "@jupyter-widgets/base",
            "overflow": null,
            "_model_module_version": "1.2.0",
            "_view_count": null,
            "flex_flow": null,
            "width": null,
            "min_width": null,
            "border": null,
            "align_items": null,
            "bottom": null,
            "_model_module": "@jupyter-widgets/base",
            "top": null,
            "grid_column": null,
            "overflow_y": null,
            "overflow_x": null,
            "grid_auto_flow": null,
            "grid_area": null,
            "grid_template_columns": null,
            "flex": null,
            "_model_name": "LayoutModel",
            "justify_items": null,
            "grid_row": null,
            "max_height": null,
            "align_content": null,
            "visibility": null,
            "align_self": null,
            "height": null,
            "min_height": null,
            "padding": null,
            "grid_auto_rows": null,
            "grid_gap": null,
            "max_width": null,
            "order": null,
            "_view_module_version": "1.2.0",
            "grid_template_areas": null,
            "object_position": null,
            "object_fit": null,
            "grid_auto_columns": null,
            "margin": null,
            "display": null,
            "left": null
          }
        },
        "5fc5fd345ce44adc88bfa8b7a8b6e5b2": {
          "model_module": "@jupyter-widgets/controls",
          "model_name": "FloatProgressModel",
          "state": {
            "_view_name": "ProgressView",
            "style": "IPY_MODEL_4e6c2065a46247d585c95875904285d5",
            "_dom_classes": [],
            "description": "Downloading: 100%",
            "_model_name": "FloatProgressModel",
            "bar_style": "success",
            "max": 456318,
            "_view_module": "@jupyter-widgets/controls",
            "_model_module_version": "1.5.0",
            "value": 456318,
            "_view_count": null,
            "_view_module_version": "1.5.0",
            "orientation": "horizontal",
            "min": 0,
            "description_tooltip": null,
            "_model_module": "@jupyter-widgets/controls",
            "layout": "IPY_MODEL_ce3754b72c56469b8f14effab4c3ff1c"
          }
        },
        "5161d49ef6034bffb1b07cbe871f5dfe": {
          "model_module": "@jupyter-widgets/controls",
          "model_name": "HTMLModel",
          "state": {
            "_view_name": "HTMLView",
            "style": "IPY_MODEL_48e145a303b14953a76a5fe43df8819b",
            "_dom_classes": [],
            "description": "",
            "_model_name": "HTMLModel",
            "placeholder": "​",
            "_view_module": "@jupyter-widgets/controls",
            "_model_module_version": "1.5.0",
            "value": " 456k/456k [00:00&lt;00:00, 2.45MB/s]",
            "_view_count": null,
            "_view_module_version": "1.5.0",
            "description_tooltip": null,
            "_model_module": "@jupyter-widgets/controls",
            "layout": "IPY_MODEL_95091bf0eb0a45c2b7bca5bdbaefde3c"
          }
        },
        "4e6c2065a46247d585c95875904285d5": {
          "model_module": "@jupyter-widgets/controls",
          "model_name": "ProgressStyleModel",
          "state": {
            "_view_name": "StyleView",
            "_model_name": "ProgressStyleModel",
            "description_width": "initial",
            "_view_module": "@jupyter-widgets/base",
            "_model_module_version": "1.5.0",
            "_view_count": null,
            "_view_module_version": "1.2.0",
            "bar_color": null,
            "_model_module": "@jupyter-widgets/controls"
          }
        },
        "ce3754b72c56469b8f14effab4c3ff1c": {
          "model_module": "@jupyter-widgets/base",
          "model_name": "LayoutModel",
          "state": {
            "_view_name": "LayoutView",
            "grid_template_rows": null,
            "right": null,
            "justify_content": null,
            "_view_module": "@jupyter-widgets/base",
            "overflow": null,
            "_model_module_version": "1.2.0",
            "_view_count": null,
            "flex_flow": null,
            "width": null,
            "min_width": null,
            "border": null,
            "align_items": null,
            "bottom": null,
            "_model_module": "@jupyter-widgets/base",
            "top": null,
            "grid_column": null,
            "overflow_y": null,
            "overflow_x": null,
            "grid_auto_flow": null,
            "grid_area": null,
            "grid_template_columns": null,
            "flex": null,
            "_model_name": "LayoutModel",
            "justify_items": null,
            "grid_row": null,
            "max_height": null,
            "align_content": null,
            "visibility": null,
            "align_self": null,
            "height": null,
            "min_height": null,
            "padding": null,
            "grid_auto_rows": null,
            "grid_gap": null,
            "max_width": null,
            "order": null,
            "_view_module_version": "1.2.0",
            "grid_template_areas": null,
            "object_position": null,
            "object_fit": null,
            "grid_auto_columns": null,
            "margin": null,
            "display": null,
            "left": null
          }
        },
        "48e145a303b14953a76a5fe43df8819b": {
          "model_module": "@jupyter-widgets/controls",
          "model_name": "DescriptionStyleModel",
          "state": {
            "_view_name": "StyleView",
            "_model_name": "DescriptionStyleModel",
            "description_width": "",
            "_view_module": "@jupyter-widgets/base",
            "_model_module_version": "1.5.0",
            "_view_count": null,
            "_view_module_version": "1.2.0",
            "_model_module": "@jupyter-widgets/controls"
          }
        },
        "95091bf0eb0a45c2b7bca5bdbaefde3c": {
          "model_module": "@jupyter-widgets/base",
          "model_name": "LayoutModel",
          "state": {
            "_view_name": "LayoutView",
            "grid_template_rows": null,
            "right": null,
            "justify_content": null,
            "_view_module": "@jupyter-widgets/base",
            "overflow": null,
            "_model_module_version": "1.2.0",
            "_view_count": null,
            "flex_flow": null,
            "width": null,
            "min_width": null,
            "border": null,
            "align_items": null,
            "bottom": null,
            "_model_module": "@jupyter-widgets/base",
            "top": null,
            "grid_column": null,
            "overflow_y": null,
            "overflow_x": null,
            "grid_auto_flow": null,
            "grid_area": null,
            "grid_template_columns": null,
            "flex": null,
            "_model_name": "LayoutModel",
            "justify_items": null,
            "grid_row": null,
            "max_height": null,
            "align_content": null,
            "visibility": null,
            "align_self": null,
            "height": null,
            "min_height": null,
            "padding": null,
            "grid_auto_rows": null,
            "grid_gap": null,
            "max_width": null,
            "order": null,
            "_view_module_version": "1.2.0",
            "grid_template_areas": null,
            "object_position": null,
            "object_fit": null,
            "grid_auto_columns": null,
            "margin": null,
            "display": null,
            "left": null
          }
        },
        "22ab3e36a789490e87a9798281ba358e": {
          "model_module": "@jupyter-widgets/controls",
          "model_name": "HBoxModel",
          "state": {
            "_view_name": "HBoxView",
            "_dom_classes": [],
            "_model_name": "HBoxModel",
            "_view_module": "@jupyter-widgets/controls",
            "_model_module_version": "1.5.0",
            "_view_count": null,
            "_view_module_version": "1.5.0",
            "box_style": "",
            "layout": "IPY_MODEL_0af4f47f5f9546908dc0a7188a066683",
            "_model_module": "@jupyter-widgets/controls",
            "children": [
              "IPY_MODEL_2ef38390c0ee4cddb25e6ad221e8e05c",
              "IPY_MODEL_8c6ccf4e08e24ea6b318ec12c1048e31"
            ]
          }
        },
        "0af4f47f5f9546908dc0a7188a066683": {
          "model_module": "@jupyter-widgets/base",
          "model_name": "LayoutModel",
          "state": {
            "_view_name": "LayoutView",
            "grid_template_rows": null,
            "right": null,
            "justify_content": null,
            "_view_module": "@jupyter-widgets/base",
            "overflow": null,
            "_model_module_version": "1.2.0",
            "_view_count": null,
            "flex_flow": null,
            "width": null,
            "min_width": null,
            "border": null,
            "align_items": null,
            "bottom": null,
            "_model_module": "@jupyter-widgets/base",
            "top": null,
            "grid_column": null,
            "overflow_y": null,
            "overflow_x": null,
            "grid_auto_flow": null,
            "grid_area": null,
            "grid_template_columns": null,
            "flex": null,
            "_model_name": "LayoutModel",
            "justify_items": null,
            "grid_row": null,
            "max_height": null,
            "align_content": null,
            "visibility": null,
            "align_self": null,
            "height": null,
            "min_height": null,
            "padding": null,
            "grid_auto_rows": null,
            "grid_gap": null,
            "max_width": null,
            "order": null,
            "_view_module_version": "1.2.0",
            "grid_template_areas": null,
            "object_position": null,
            "object_fit": null,
            "grid_auto_columns": null,
            "margin": null,
            "display": null,
            "left": null
          }
        },
        "2ef38390c0ee4cddb25e6ad221e8e05c": {
          "model_module": "@jupyter-widgets/controls",
          "model_name": "FloatProgressModel",
          "state": {
            "_view_name": "ProgressView",
            "style": "IPY_MODEL_a12936ed281849fab449a12171458fc8",
            "_dom_classes": [],
            "description": "Downloading: 100%",
            "_model_name": "FloatProgressModel",
            "bar_style": "success",
            "max": 1355256,
            "_view_module": "@jupyter-widgets/controls",
            "_model_module_version": "1.5.0",
            "value": 1355256,
            "_view_count": null,
            "_view_module_version": "1.5.0",
            "orientation": "horizontal",
            "min": 0,
            "description_tooltip": null,
            "_model_module": "@jupyter-widgets/controls",
            "layout": "IPY_MODEL_f551ad44e6e1438591098ef5c0775318"
          }
        },
        "8c6ccf4e08e24ea6b318ec12c1048e31": {
          "model_module": "@jupyter-widgets/controls",
          "model_name": "HTMLModel",
          "state": {
            "_view_name": "HTMLView",
            "style": "IPY_MODEL_5c37630441c0427487ae5b6047fa04f6",
            "_dom_classes": [],
            "description": "",
            "_model_name": "HTMLModel",
            "placeholder": "​",
            "_view_module": "@jupyter-widgets/controls",
            "_model_module_version": "1.5.0",
            "value": " 1.36M/1.36M [00:00&lt;00:00, 10.1MB/s]",
            "_view_count": null,
            "_view_module_version": "1.5.0",
            "description_tooltip": null,
            "_model_module": "@jupyter-widgets/controls",
            "layout": "IPY_MODEL_3c9313fff1964f0f82b257313067e976"
          }
        },
        "a12936ed281849fab449a12171458fc8": {
          "model_module": "@jupyter-widgets/controls",
          "model_name": "ProgressStyleModel",
          "state": {
            "_view_name": "StyleView",
            "_model_name": "ProgressStyleModel",
            "description_width": "initial",
            "_view_module": "@jupyter-widgets/base",
            "_model_module_version": "1.5.0",
            "_view_count": null,
            "_view_module_version": "1.2.0",
            "bar_color": null,
            "_model_module": "@jupyter-widgets/controls"
          }
        },
        "f551ad44e6e1438591098ef5c0775318": {
          "model_module": "@jupyter-widgets/base",
          "model_name": "LayoutModel",
          "state": {
            "_view_name": "LayoutView",
            "grid_template_rows": null,
            "right": null,
            "justify_content": null,
            "_view_module": "@jupyter-widgets/base",
            "overflow": null,
            "_model_module_version": "1.2.0",
            "_view_count": null,
            "flex_flow": null,
            "width": null,
            "min_width": null,
            "border": null,
            "align_items": null,
            "bottom": null,
            "_model_module": "@jupyter-widgets/base",
            "top": null,
            "grid_column": null,
            "overflow_y": null,
            "overflow_x": null,
            "grid_auto_flow": null,
            "grid_area": null,
            "grid_template_columns": null,
            "flex": null,
            "_model_name": "LayoutModel",
            "justify_items": null,
            "grid_row": null,
            "max_height": null,
            "align_content": null,
            "visibility": null,
            "align_self": null,
            "height": null,
            "min_height": null,
            "padding": null,
            "grid_auto_rows": null,
            "grid_gap": null,
            "max_width": null,
            "order": null,
            "_view_module_version": "1.2.0",
            "grid_template_areas": null,
            "object_position": null,
            "object_fit": null,
            "grid_auto_columns": null,
            "margin": null,
            "display": null,
            "left": null
          }
        },
        "5c37630441c0427487ae5b6047fa04f6": {
          "model_module": "@jupyter-widgets/controls",
          "model_name": "DescriptionStyleModel",
          "state": {
            "_view_name": "StyleView",
            "_model_name": "DescriptionStyleModel",
            "description_width": "",
            "_view_module": "@jupyter-widgets/base",
            "_model_module_version": "1.5.0",
            "_view_count": null,
            "_view_module_version": "1.2.0",
            "_model_module": "@jupyter-widgets/controls"
          }
        },
        "3c9313fff1964f0f82b257313067e976": {
          "model_module": "@jupyter-widgets/base",
          "model_name": "LayoutModel",
          "state": {
            "_view_name": "LayoutView",
            "grid_template_rows": null,
            "right": null,
            "justify_content": null,
            "_view_module": "@jupyter-widgets/base",
            "overflow": null,
            "_model_module_version": "1.2.0",
            "_view_count": null,
            "flex_flow": null,
            "width": null,
            "min_width": null,
            "border": null,
            "align_items": null,
            "bottom": null,
            "_model_module": "@jupyter-widgets/base",
            "top": null,
            "grid_column": null,
            "overflow_y": null,
            "overflow_x": null,
            "grid_auto_flow": null,
            "grid_area": null,
            "grid_template_columns": null,
            "flex": null,
            "_model_name": "LayoutModel",
            "justify_items": null,
            "grid_row": null,
            "max_height": null,
            "align_content": null,
            "visibility": null,
            "align_self": null,
            "height": null,
            "min_height": null,
            "padding": null,
            "grid_auto_rows": null,
            "grid_gap": null,
            "max_width": null,
            "order": null,
            "_view_module_version": "1.2.0",
            "grid_template_areas": null,
            "object_position": null,
            "object_fit": null,
            "grid_auto_columns": null,
            "margin": null,
            "display": null,
            "left": null
          }
        },
        "c2c3e65cc89a456b88ba4d78b1e13260": {
          "model_module": "@jupyter-widgets/controls",
          "model_name": "HBoxModel",
          "state": {
            "_view_name": "HBoxView",
            "_dom_classes": [],
            "_model_name": "HBoxModel",
            "_view_module": "@jupyter-widgets/controls",
            "_model_module_version": "1.5.0",
            "_view_count": null,
            "_view_module_version": "1.5.0",
            "box_style": "",
            "layout": "IPY_MODEL_7eb72f527ed949598799d656d466864a",
            "_model_module": "@jupyter-widgets/controls",
            "children": [
              "IPY_MODEL_18e07bf41db54e9fb38ae9b8b808c9dc",
              "IPY_MODEL_ad0559d0d3fe495a95aeca9733eb118a"
            ]
          }
        },
        "7eb72f527ed949598799d656d466864a": {
          "model_module": "@jupyter-widgets/base",
          "model_name": "LayoutModel",
          "state": {
            "_view_name": "LayoutView",
            "grid_template_rows": null,
            "right": null,
            "justify_content": null,
            "_view_module": "@jupyter-widgets/base",
            "overflow": null,
            "_model_module_version": "1.2.0",
            "_view_count": null,
            "flex_flow": null,
            "width": null,
            "min_width": null,
            "border": null,
            "align_items": null,
            "bottom": null,
            "_model_module": "@jupyter-widgets/base",
            "top": null,
            "grid_column": null,
            "overflow_y": null,
            "overflow_x": null,
            "grid_auto_flow": null,
            "grid_area": null,
            "grid_template_columns": null,
            "flex": null,
            "_model_name": "LayoutModel",
            "justify_items": null,
            "grid_row": null,
            "max_height": null,
            "align_content": null,
            "visibility": null,
            "align_self": null,
            "height": null,
            "min_height": null,
            "padding": null,
            "grid_auto_rows": null,
            "grid_gap": null,
            "max_width": null,
            "order": null,
            "_view_module_version": "1.2.0",
            "grid_template_areas": null,
            "object_position": null,
            "object_fit": null,
            "grid_auto_columns": null,
            "margin": null,
            "display": null,
            "left": null
          }
        },
        "18e07bf41db54e9fb38ae9b8b808c9dc": {
          "model_module": "@jupyter-widgets/controls",
          "model_name": "FloatProgressModel",
          "state": {
            "_view_name": "ProgressView",
            "style": "IPY_MODEL_7a7d0fbb7a6d4927bebc5b0383924a45",
            "_dom_classes": [],
            "description": "Downloading: 100%",
            "_model_name": "FloatProgressModel",
            "bar_style": "success",
            "max": 665,
            "_view_module": "@jupyter-widgets/controls",
            "_model_module_version": "1.5.0",
            "value": 665,
            "_view_count": null,
            "_view_module_version": "1.5.0",
            "orientation": "horizontal",
            "min": 0,
            "description_tooltip": null,
            "_model_module": "@jupyter-widgets/controls",
            "layout": "IPY_MODEL_30395f71ab904d008453a473ed28fac1"
          }
        },
        "ad0559d0d3fe495a95aeca9733eb118a": {
          "model_module": "@jupyter-widgets/controls",
          "model_name": "HTMLModel",
          "state": {
            "_view_name": "HTMLView",
            "style": "IPY_MODEL_b257d2aebb5145098fda32c0d6cb62cc",
            "_dom_classes": [],
            "description": "",
            "_model_name": "HTMLModel",
            "placeholder": "​",
            "_view_module": "@jupyter-widgets/controls",
            "_model_module_version": "1.5.0",
            "value": " 665/665 [00:25&lt;00:00, 25.7B/s]",
            "_view_count": null,
            "_view_module_version": "1.5.0",
            "description_tooltip": null,
            "_model_module": "@jupyter-widgets/controls",
            "layout": "IPY_MODEL_c6a0e703e0294270b8a53661a6756cc0"
          }
        },
        "7a7d0fbb7a6d4927bebc5b0383924a45": {
          "model_module": "@jupyter-widgets/controls",
          "model_name": "ProgressStyleModel",
          "state": {
            "_view_name": "StyleView",
            "_model_name": "ProgressStyleModel",
            "description_width": "initial",
            "_view_module": "@jupyter-widgets/base",
            "_model_module_version": "1.5.0",
            "_view_count": null,
            "_view_module_version": "1.2.0",
            "bar_color": null,
            "_model_module": "@jupyter-widgets/controls"
          }
        },
        "30395f71ab904d008453a473ed28fac1": {
          "model_module": "@jupyter-widgets/base",
          "model_name": "LayoutModel",
          "state": {
            "_view_name": "LayoutView",
            "grid_template_rows": null,
            "right": null,
            "justify_content": null,
            "_view_module": "@jupyter-widgets/base",
            "overflow": null,
            "_model_module_version": "1.2.0",
            "_view_count": null,
            "flex_flow": null,
            "width": null,
            "min_width": null,
            "border": null,
            "align_items": null,
            "bottom": null,
            "_model_module": "@jupyter-widgets/base",
            "top": null,
            "grid_column": null,
            "overflow_y": null,
            "overflow_x": null,
            "grid_auto_flow": null,
            "grid_area": null,
            "grid_template_columns": null,
            "flex": null,
            "_model_name": "LayoutModel",
            "justify_items": null,
            "grid_row": null,
            "max_height": null,
            "align_content": null,
            "visibility": null,
            "align_self": null,
            "height": null,
            "min_height": null,
            "padding": null,
            "grid_auto_rows": null,
            "grid_gap": null,
            "max_width": null,
            "order": null,
            "_view_module_version": "1.2.0",
            "grid_template_areas": null,
            "object_position": null,
            "object_fit": null,
            "grid_auto_columns": null,
            "margin": null,
            "display": null,
            "left": null
          }
        },
        "b257d2aebb5145098fda32c0d6cb62cc": {
          "model_module": "@jupyter-widgets/controls",
          "model_name": "DescriptionStyleModel",
          "state": {
            "_view_name": "StyleView",
            "_model_name": "DescriptionStyleModel",
            "description_width": "",
            "_view_module": "@jupyter-widgets/base",
            "_model_module_version": "1.5.0",
            "_view_count": null,
            "_view_module_version": "1.2.0",
            "_model_module": "@jupyter-widgets/controls"
          }
        },
        "c6a0e703e0294270b8a53661a6756cc0": {
          "model_module": "@jupyter-widgets/base",
          "model_name": "LayoutModel",
          "state": {
            "_view_name": "LayoutView",
            "grid_template_rows": null,
            "right": null,
            "justify_content": null,
            "_view_module": "@jupyter-widgets/base",
            "overflow": null,
            "_model_module_version": "1.2.0",
            "_view_count": null,
            "flex_flow": null,
            "width": null,
            "min_width": null,
            "border": null,
            "align_items": null,
            "bottom": null,
            "_model_module": "@jupyter-widgets/base",
            "top": null,
            "grid_column": null,
            "overflow_y": null,
            "overflow_x": null,
            "grid_auto_flow": null,
            "grid_area": null,
            "grid_template_columns": null,
            "flex": null,
            "_model_name": "LayoutModel",
            "justify_items": null,
            "grid_row": null,
            "max_height": null,
            "align_content": null,
            "visibility": null,
            "align_self": null,
            "height": null,
            "min_height": null,
            "padding": null,
            "grid_auto_rows": null,
            "grid_gap": null,
            "max_width": null,
            "order": null,
            "_view_module_version": "1.2.0",
            "grid_template_areas": null,
            "object_position": null,
            "object_fit": null,
            "grid_auto_columns": null,
            "margin": null,
            "display": null,
            "left": null
          }
        },
        "f9eb664708f346fd8954d6ca9bbf93a3": {
          "model_module": "@jupyter-widgets/controls",
          "model_name": "HBoxModel",
          "state": {
            "_view_name": "HBoxView",
            "_dom_classes": [],
            "_model_name": "HBoxModel",
            "_view_module": "@jupyter-widgets/controls",
            "_model_module_version": "1.5.0",
            "_view_count": null,
            "_view_module_version": "1.5.0",
            "box_style": "",
            "layout": "IPY_MODEL_a15417007c1c42afac32bbe4725c4b4d",
            "_model_module": "@jupyter-widgets/controls",
            "children": [
              "IPY_MODEL_4c62b8c5f4894b71b65e7f8cd29b6026",
              "IPY_MODEL_0c5020ed7d4245b4a0a67537817202e2"
            ]
          }
        },
        "a15417007c1c42afac32bbe4725c4b4d": {
          "model_module": "@jupyter-widgets/base",
          "model_name": "LayoutModel",
          "state": {
            "_view_name": "LayoutView",
            "grid_template_rows": null,
            "right": null,
            "justify_content": null,
            "_view_module": "@jupyter-widgets/base",
            "overflow": null,
            "_model_module_version": "1.2.0",
            "_view_count": null,
            "flex_flow": null,
            "width": null,
            "min_width": null,
            "border": null,
            "align_items": null,
            "bottom": null,
            "_model_module": "@jupyter-widgets/base",
            "top": null,
            "grid_column": null,
            "overflow_y": null,
            "overflow_x": null,
            "grid_auto_flow": null,
            "grid_area": null,
            "grid_template_columns": null,
            "flex": null,
            "_model_name": "LayoutModel",
            "justify_items": null,
            "grid_row": null,
            "max_height": null,
            "align_content": null,
            "visibility": null,
            "align_self": null,
            "height": null,
            "min_height": null,
            "padding": null,
            "grid_auto_rows": null,
            "grid_gap": null,
            "max_width": null,
            "order": null,
            "_view_module_version": "1.2.0",
            "grid_template_areas": null,
            "object_position": null,
            "object_fit": null,
            "grid_auto_columns": null,
            "margin": null,
            "display": null,
            "left": null
          }
        },
        "4c62b8c5f4894b71b65e7f8cd29b6026": {
          "model_module": "@jupyter-widgets/controls",
          "model_name": "FloatProgressModel",
          "state": {
            "_view_name": "ProgressView",
            "style": "IPY_MODEL_485f55156ca1415082cd91089d256e7b",
            "_dom_classes": [],
            "description": "Downloading: 100%",
            "_model_name": "FloatProgressModel",
            "bar_style": "success",
            "max": 548118077,
            "_view_module": "@jupyter-widgets/controls",
            "_model_module_version": "1.5.0",
            "value": 548118077,
            "_view_count": null,
            "_view_module_version": "1.5.0",
            "orientation": "horizontal",
            "min": 0,
            "description_tooltip": null,
            "_model_module": "@jupyter-widgets/controls",
            "layout": "IPY_MODEL_6f116f47a3d349048c525b5f5bc9a1a6"
          }
        },
        "0c5020ed7d4245b4a0a67537817202e2": {
          "model_module": "@jupyter-widgets/controls",
          "model_name": "HTMLModel",
          "state": {
            "_view_name": "HTMLView",
            "style": "IPY_MODEL_dd8bdc426b634209ba655f29f3c9363c",
            "_dom_classes": [],
            "description": "",
            "_model_name": "HTMLModel",
            "placeholder": "​",
            "_view_module": "@jupyter-widgets/controls",
            "_model_module_version": "1.5.0",
            "value": " 548M/548M [00:25&lt;00:00, 21.3MB/s]",
            "_view_count": null,
            "_view_module_version": "1.5.0",
            "description_tooltip": null,
            "_model_module": "@jupyter-widgets/controls",
            "layout": "IPY_MODEL_a5af77c210c1454589e03b1af0984b5b"
          }
        },
        "485f55156ca1415082cd91089d256e7b": {
          "model_module": "@jupyter-widgets/controls",
          "model_name": "ProgressStyleModel",
          "state": {
            "_view_name": "StyleView",
            "_model_name": "ProgressStyleModel",
            "description_width": "initial",
            "_view_module": "@jupyter-widgets/base",
            "_model_module_version": "1.5.0",
            "_view_count": null,
            "_view_module_version": "1.2.0",
            "bar_color": null,
            "_model_module": "@jupyter-widgets/controls"
          }
        },
        "6f116f47a3d349048c525b5f5bc9a1a6": {
          "model_module": "@jupyter-widgets/base",
          "model_name": "LayoutModel",
          "state": {
            "_view_name": "LayoutView",
            "grid_template_rows": null,
            "right": null,
            "justify_content": null,
            "_view_module": "@jupyter-widgets/base",
            "overflow": null,
            "_model_module_version": "1.2.0",
            "_view_count": null,
            "flex_flow": null,
            "width": null,
            "min_width": null,
            "border": null,
            "align_items": null,
            "bottom": null,
            "_model_module": "@jupyter-widgets/base",
            "top": null,
            "grid_column": null,
            "overflow_y": null,
            "overflow_x": null,
            "grid_auto_flow": null,
            "grid_area": null,
            "grid_template_columns": null,
            "flex": null,
            "_model_name": "LayoutModel",
            "justify_items": null,
            "grid_row": null,
            "max_height": null,
            "align_content": null,
            "visibility": null,
            "align_self": null,
            "height": null,
            "min_height": null,
            "padding": null,
            "grid_auto_rows": null,
            "grid_gap": null,
            "max_width": null,
            "order": null,
            "_view_module_version": "1.2.0",
            "grid_template_areas": null,
            "object_position": null,
            "object_fit": null,
            "grid_auto_columns": null,
            "margin": null,
            "display": null,
            "left": null
          }
        },
        "dd8bdc426b634209ba655f29f3c9363c": {
          "model_module": "@jupyter-widgets/controls",
          "model_name": "DescriptionStyleModel",
          "state": {
            "_view_name": "StyleView",
            "_model_name": "DescriptionStyleModel",
            "description_width": "",
            "_view_module": "@jupyter-widgets/base",
            "_model_module_version": "1.5.0",
            "_view_count": null,
            "_view_module_version": "1.2.0",
            "_model_module": "@jupyter-widgets/controls"
          }
        },
        "a5af77c210c1454589e03b1af0984b5b": {
          "model_module": "@jupyter-widgets/base",
          "model_name": "LayoutModel",
          "state": {
            "_view_name": "LayoutView",
            "grid_template_rows": null,
            "right": null,
            "justify_content": null,
            "_view_module": "@jupyter-widgets/base",
            "overflow": null,
            "_model_module_version": "1.2.0",
            "_view_count": null,
            "flex_flow": null,
            "width": null,
            "min_width": null,
            "border": null,
            "align_items": null,
            "bottom": null,
            "_model_module": "@jupyter-widgets/base",
            "top": null,
            "grid_column": null,
            "overflow_y": null,
            "overflow_x": null,
            "grid_auto_flow": null,
            "grid_area": null,
            "grid_template_columns": null,
            "flex": null,
            "_model_name": "LayoutModel",
            "justify_items": null,
            "grid_row": null,
            "max_height": null,
            "align_content": null,
            "visibility": null,
            "align_self": null,
            "height": null,
            "min_height": null,
            "padding": null,
            "grid_auto_rows": null,
            "grid_gap": null,
            "max_width": null,
            "order": null,
            "_view_module_version": "1.2.0",
            "grid_template_areas": null,
            "object_position": null,
            "object_fit": null,
            "grid_auto_columns": null,
            "margin": null,
            "display": null,
            "left": null
          }
        }
      }
    }
  },
  "cells": [
    {
      "cell_type": "markdown",
      "metadata": {
        "id": "pzqlhDt_ctp1"
      },
      "source": [
        "# Text generation with pre-trained Transformers\n",
        "In this assignment we will work with Pre-trained Transformers such as GPT2 for generating text from a given sequence. Transformers aim to address the long term dependency issue in sequence-to-seuqence prediction by using concepts such as self-attention and positional encoding. GPT2 is a langauge model, pretrained on text generation, that can be used as a multi-task learner for tasks such as summarization, question-answering, and other generation tasks. This assignment's focus is on using GPT2 to generate text via greedy decoding and beam search. For more background on beam search, see [Jurafsky and Martin, chapter 11](https://web.stanford.edu/~jurafsky/slp3/11.pdf)."
      ]
    },
    {
      "cell_type": "code",
      "metadata": {
        "id": "GdzIfi61MGbz",
        "colab": {
          "base_uri": "https://localhost:8080/"
        },
        "outputId": "0f12d1b0-02b1-4666-88ff-cfa2b25e2746"
      },
      "source": [
        "!pip install transformers"
      ],
      "execution_count": null,
      "outputs": [
        {
          "output_type": "stream",
          "text": [
            "Collecting transformers\n",
            "\u001b[?25l  Downloading https://files.pythonhosted.org/packages/d8/b2/57495b5309f09fa501866e225c84532d1fd89536ea62406b2181933fb418/transformers-4.5.1-py3-none-any.whl (2.1MB)\n",
            "\u001b[K     |████████████████████████████████| 2.1MB 15.5MB/s \n",
            "\u001b[?25hRequirement already satisfied: numpy>=1.17 in /usr/local/lib/python3.7/dist-packages (from transformers) (1.19.5)\n",
            "Requirement already satisfied: tqdm>=4.27 in /usr/local/lib/python3.7/dist-packages (from transformers) (4.41.1)\n",
            "Requirement already satisfied: importlib-metadata; python_version < \"3.8\" in /usr/local/lib/python3.7/dist-packages (from transformers) (3.10.1)\n",
            "Collecting tokenizers<0.11,>=0.10.1\n",
            "\u001b[?25l  Downloading https://files.pythonhosted.org/packages/ae/04/5b870f26a858552025a62f1649c20d29d2672c02ff3c3fb4c688ca46467a/tokenizers-0.10.2-cp37-cp37m-manylinux2010_x86_64.whl (3.3MB)\n",
            "\u001b[K     |████████████████████████████████| 3.3MB 57.9MB/s \n",
            "\u001b[?25hRequirement already satisfied: filelock in /usr/local/lib/python3.7/dist-packages (from transformers) (3.0.12)\n",
            "Requirement already satisfied: regex!=2019.12.17 in /usr/local/lib/python3.7/dist-packages (from transformers) (2019.12.20)\n",
            "Collecting sacremoses\n",
            "\u001b[?25l  Downloading https://files.pythonhosted.org/packages/75/ee/67241dc87f266093c533a2d4d3d69438e57d7a90abb216fa076e7d475d4a/sacremoses-0.0.45-py3-none-any.whl (895kB)\n",
            "\u001b[K     |████████████████████████████████| 901kB 41.7MB/s \n",
            "\u001b[?25hRequirement already satisfied: packaging in /usr/local/lib/python3.7/dist-packages (from transformers) (20.9)\n",
            "Requirement already satisfied: requests in /usr/local/lib/python3.7/dist-packages (from transformers) (2.23.0)\n",
            "Requirement already satisfied: typing-extensions>=3.6.4; python_version < \"3.8\" in /usr/local/lib/python3.7/dist-packages (from importlib-metadata; python_version < \"3.8\"->transformers) (3.7.4.3)\n",
            "Requirement already satisfied: zipp>=0.5 in /usr/local/lib/python3.7/dist-packages (from importlib-metadata; python_version < \"3.8\"->transformers) (3.4.1)\n",
            "Requirement already satisfied: click in /usr/local/lib/python3.7/dist-packages (from sacremoses->transformers) (7.1.2)\n",
            "Requirement already satisfied: six in /usr/local/lib/python3.7/dist-packages (from sacremoses->transformers) (1.15.0)\n",
            "Requirement already satisfied: joblib in /usr/local/lib/python3.7/dist-packages (from sacremoses->transformers) (1.0.1)\n",
            "Requirement already satisfied: pyparsing>=2.0.2 in /usr/local/lib/python3.7/dist-packages (from packaging->transformers) (2.4.7)\n",
            "Requirement already satisfied: chardet<4,>=3.0.2 in /usr/local/lib/python3.7/dist-packages (from requests->transformers) (3.0.4)\n",
            "Requirement already satisfied: idna<3,>=2.5 in /usr/local/lib/python3.7/dist-packages (from requests->transformers) (2.10)\n",
            "Requirement already satisfied: certifi>=2017.4.17 in /usr/local/lib/python3.7/dist-packages (from requests->transformers) (2020.12.5)\n",
            "Requirement already satisfied: urllib3!=1.25.0,!=1.25.1,<1.26,>=1.21.1 in /usr/local/lib/python3.7/dist-packages (from requests->transformers) (1.24.3)\n",
            "Installing collected packages: tokenizers, sacremoses, transformers\n",
            "Successfully installed sacremoses-0.0.45 tokenizers-0.10.2 transformers-4.5.1\n"
          ],
          "name": "stdout"
        }
      ]
    },
    {
      "cell_type": "code",
      "metadata": {
        "id": "oVs6K8YcLvXC"
      },
      "source": [
        "import copy\n",
        "import torch\n",
        "from transformers import GPT2Tokenizer, GPT2LMHeadModel"
      ],
      "execution_count": null,
      "outputs": []
    },
    {
      "cell_type": "code",
      "metadata": {
        "id": "-4S1DJT8MFeh",
        "colab": {
          "base_uri": "https://localhost:8080/",
          "height": 261,
          "referenced_widgets": [
            "8a241bfbd840417c970f411ac48a3385",
            "a92bcb57fb104662b413419437707c55",
            "565290379f6040d082fb23d77bf185a2",
            "6f2d103e15204ccfb87a8e3fddbaaebd",
            "0103899b9e144781a6428e141ac14084",
            "3f8016ce7f6d4cb39c3a62fb6642700e",
            "834921ef650c4afcb128e82adb5afcb0",
            "7c5c4c82f3f445ba8e5d53cefa864b91",
            "47f30292fa5b4cd194197ab5832e0784",
            "2c4137b07ce8467ca9bcac95c9b7cadf",
            "5fc5fd345ce44adc88bfa8b7a8b6e5b2",
            "5161d49ef6034bffb1b07cbe871f5dfe",
            "4e6c2065a46247d585c95875904285d5",
            "ce3754b72c56469b8f14effab4c3ff1c",
            "48e145a303b14953a76a5fe43df8819b",
            "95091bf0eb0a45c2b7bca5bdbaefde3c",
            "22ab3e36a789490e87a9798281ba358e",
            "0af4f47f5f9546908dc0a7188a066683",
            "2ef38390c0ee4cddb25e6ad221e8e05c",
            "8c6ccf4e08e24ea6b318ec12c1048e31",
            "a12936ed281849fab449a12171458fc8",
            "f551ad44e6e1438591098ef5c0775318",
            "5c37630441c0427487ae5b6047fa04f6",
            "3c9313fff1964f0f82b257313067e976",
            "c2c3e65cc89a456b88ba4d78b1e13260",
            "7eb72f527ed949598799d656d466864a",
            "18e07bf41db54e9fb38ae9b8b808c9dc",
            "ad0559d0d3fe495a95aeca9733eb118a",
            "7a7d0fbb7a6d4927bebc5b0383924a45",
            "30395f71ab904d008453a473ed28fac1",
            "b257d2aebb5145098fda32c0d6cb62cc",
            "c6a0e703e0294270b8a53661a6756cc0",
            "f9eb664708f346fd8954d6ca9bbf93a3",
            "a15417007c1c42afac32bbe4725c4b4d",
            "4c62b8c5f4894b71b65e7f8cd29b6026",
            "0c5020ed7d4245b4a0a67537817202e2",
            "485f55156ca1415082cd91089d256e7b",
            "6f116f47a3d349048c525b5f5bc9a1a6",
            "dd8bdc426b634209ba655f29f3c9363c",
            "a5af77c210c1454589e03b1af0984b5b"
          ]
        },
        "outputId": "8126b7fe-f7fa-48ac-fffe-bdcaaf0faa17"
      },
      "source": [
        "tokenizer = GPT2Tokenizer.from_pretrained('gpt2')\n",
        "model = GPT2LMHeadModel.from_pretrained('gpt2')"
      ],
      "execution_count": null,
      "outputs": [
        {
          "output_type": "display_data",
          "data": {
            "application/vnd.jupyter.widget-view+json": {
              "model_id": "8a241bfbd840417c970f411ac48a3385",
              "version_minor": 0,
              "version_major": 2
            },
            "text/plain": [
              "HBox(children=(FloatProgress(value=0.0, description='Downloading', max=1042301.0, style=ProgressStyle(descript…"
            ]
          },
          "metadata": {
            "tags": []
          }
        },
        {
          "output_type": "stream",
          "text": [
            "\n"
          ],
          "name": "stdout"
        },
        {
          "output_type": "display_data",
          "data": {
            "application/vnd.jupyter.widget-view+json": {
              "model_id": "47f30292fa5b4cd194197ab5832e0784",
              "version_minor": 0,
              "version_major": 2
            },
            "text/plain": [
              "HBox(children=(FloatProgress(value=0.0, description='Downloading', max=456318.0, style=ProgressStyle(descripti…"
            ]
          },
          "metadata": {
            "tags": []
          }
        },
        {
          "output_type": "stream",
          "text": [
            "\n"
          ],
          "name": "stdout"
        },
        {
          "output_type": "display_data",
          "data": {
            "application/vnd.jupyter.widget-view+json": {
              "model_id": "22ab3e36a789490e87a9798281ba358e",
              "version_minor": 0,
              "version_major": 2
            },
            "text/plain": [
              "HBox(children=(FloatProgress(value=0.0, description='Downloading', max=1355256.0, style=ProgressStyle(descript…"
            ]
          },
          "metadata": {
            "tags": []
          }
        },
        {
          "output_type": "stream",
          "text": [
            "\n"
          ],
          "name": "stdout"
        },
        {
          "output_type": "display_data",
          "data": {
            "application/vnd.jupyter.widget-view+json": {
              "model_id": "c2c3e65cc89a456b88ba4d78b1e13260",
              "version_minor": 0,
              "version_major": 2
            },
            "text/plain": [
              "HBox(children=(FloatProgress(value=0.0, description='Downloading', max=665.0, style=ProgressStyle(description_…"
            ]
          },
          "metadata": {
            "tags": []
          }
        },
        {
          "output_type": "stream",
          "text": [
            "\n"
          ],
          "name": "stdout"
        },
        {
          "output_type": "display_data",
          "data": {
            "application/vnd.jupyter.widget-view+json": {
              "model_id": "f9eb664708f346fd8954d6ca9bbf93a3",
              "version_minor": 0,
              "version_major": 2
            },
            "text/plain": [
              "HBox(children=(FloatProgress(value=0.0, description='Downloading', max=548118077.0, style=ProgressStyle(descri…"
            ]
          },
          "metadata": {
            "tags": []
          }
        },
        {
          "output_type": "stream",
          "text": [
            "\n"
          ],
          "name": "stdout"
        }
      ]
    },
    {
      "cell_type": "code",
      "metadata": {
        "id": "9RiepaMyQfhl"
      },
      "source": [
        "sentences = ['I like walking and', \n",
        "             'Martha wanted to read a book that',\n",
        "             'Thomas is studying computer science to',\n",
        "             'Their friendship inspired',\n",
        "             'We should take the trash out since',\n",
        "             'I am not a fan of coffee because',\n",
        "             'I could not complete my homework by the deadline because',\n",
        "             'The last semester was much easier due to',\n",
        "             'I will be painting the walls white so that'\n",
        "            ]"
      ],
      "execution_count": null,
      "outputs": []
    },
    {
      "cell_type": "markdown",
      "metadata": {
        "id": "xQ3sku1QrSIa"
      },
      "source": [
        "We apply greedy decoding to get predictions for each sentence here. This function returns the text output of greedy decoding. Modify it to return a tuple (ordered pair) of text and average log-likelihood per word for each sentence."
      ]
    },
    {
      "cell_type": "code",
      "metadata": {
        "id": "1IFNig2eRUtg"
      },
      "source": [
        "## TODO: Modify this function to return pairs of text and average log-likelihood\n",
        "## per word for each sentence.\n",
        "def greedy_decode(sentences, max_length, tokenizer):\n",
        "  # Obtain loss from output and calculate\n",
        "  # log likelihood for each sentence\n",
        "  texts = []\n",
        "  for sentence in sentences:\n",
        "    predicted_sentence = copy.copy(sentence)\n",
        "    log_pred = 0\n",
        "    \n",
        "    for i in range(max_length):\n",
        "      indexed_tokens = tokenizer.encode(predicted_sentence)\n",
        "      token_tensors = torch.tensor([indexed_tokens])\n",
        "\n",
        "      with torch.no_grad():\n",
        "        output = model(token_tensors, labels=token_tensors)\n",
        "        predictions = output[1]\n",
        "\n",
        "      predicted_index = torch.argmax(predictions[0, -1, :]).item()\n",
        "      log_pred = log_pred + torch.argmax(predictions[0, -1, :]).item()\n",
        "      predicted_sentence = tokenizer.decode(indexed_tokens + [predicted_index])\n",
        "      avg_loglikelihood = log_pred/max_length\n",
        "    texts.append((predicted_sentence, avg_loglikelihood))\n",
        "  return texts"
      ],
      "execution_count": null,
      "outputs": []
    },
    {
      "cell_type": "code",
      "metadata": {
        "colab": {
          "base_uri": "https://localhost:8080/"
        },
        "id": "eWayRy7eQoKC",
        "outputId": "b7a07126-fa4d-42b3-bfb8-8a007b983073"
      },
      "source": [
        "texts = greedy_decode(sentences, max_length=25, tokenizer=tokenizer)\n",
        "texts"
      ],
      "execution_count": null,
      "outputs": [
        {
          "output_type": "execute_result",
          "data": {
            "text/plain": [
              "[(\"I like walking and biking, but I don't like being in a car. I like to be in a car. I like to be in\",\n",
              "  1928.6),\n",
              " ('Martha wanted to read a book that she had read in college. She was a little nervous about it, but she was excited about it. She was a little',\n",
              "  1368.68),\n",
              " ('Thomas is studying computer science to become a professor of computer science at the University of California, Berkeley. He is also a member of the Board of Trustees',\n",
              "  2454.12),\n",
              " (\"Their friendship inspired him to become a writer and a writer's assistant. He also wrote a book about his life and career.\\n\\n\\n\",\n",
              "  1496.4),\n",
              " ('We should take the trash out since it\\'s not going to be a problem,\" he said.\\n\\n\\n\"We\\'re going to have to do something about',\n",
              "  523.8),\n",
              " ('I am not a fan of coffee because it is not good for you. I am a fan of coffee because it is not good for you.\\n\\n\\nI',\n",
              "  782.48),\n",
              " ('I could not complete my homework by the deadline because I was too busy with my homework to finish it. I was so tired and tired of being bored. I was so tired',\n",
              "  3788.68),\n",
              " ('The last semester was much easier due to the fact that I had a lot of time to study and get my degree. I was able to get my degree in the',\n",
              "  921.32),\n",
              " ('I will be painting the walls white so that I can see the faces of the people who are here. I will be painting the walls white so that I can see the',\n",
              "  1508.32)]"
            ]
          },
          "metadata": {
            "tags": []
          },
          "execution_count": 8
        }
      ]
    },
    {
      "cell_type": "markdown",
      "metadata": {
        "id": "CFPYdTx9rMUO"
      },
      "source": [
        "You'll be implementing **beam search**, which returns a list of the $k$ most likely output sequences for each sentence. For this assignment, let $k = 8$. For the first token in the generated text, you will select the top $k$ output tokens. Then, for the next token, find the $k$-best continuations for each of those $k$ hypotheses and select the $k$-best overall. Return the $k$-best overall hypotheses according to average log likelihood per word. Note that if we don't average per word, the decoder will simply prefer shorter outputs. As above, return tuples of text output and avergae log likelihood."
      ]
    },
    {
      "cell_type": "code",
      "metadata": {
        "id": "enI6j6iVS8Na"
      },
      "source": [
        "## TODO: Implement beam search.\n",
        "def beam_search(sentences, max_length, tokenizer, k=8):\n",
        "  # Your code here\n",
        "  # Beam search should be implemented \n",
        "  # without the use of model.generate().\n",
        "  # Calculate average per-word log likelihood for each\n",
        "  # output sequence.\n",
        "  texts = []\n",
        "  beamsize = k\n",
        "  for s in sentences:\n",
        "    chosen = []\n",
        "    pred_sentence = copy.copy(s)\n",
        "    encodedvals = [[tokenizer.encode(pred_sentence), 0]]\n",
        "\n",
        "    for i in range(max_length):\n",
        "      candidates = []\n",
        "      for val in encodedvals:\n",
        "        tkns_idx = val[0]\n",
        "        tensor_tkns = torch.tensor([tkns_idx])\n",
        "  \n",
        "        with torch.no_grad():\n",
        "          output = model(tensor_tkns, labels=tensor_tkns)\n",
        "\n",
        "        avg_loglikelihood = (output[1][0, -1, :] + (val[1] * i))/(i+1)\n",
        "        values, idx = torch.topk(avg_loglikelihood, k ,largest=True)\n",
        "\n",
        "        for i in range(k):\n",
        "          iitem = [idx[i].item()]\n",
        "          candidates.append([tkns_idx + iitem, values[i]])\n",
        "\n",
        "      sorted_candidates = sorted(candidates, key = lambda p: p[1], reverse=True)\n",
        "      kvalues = sorted_candidates[:k]\n",
        "      beam_dec = False\n",
        "      dec_value = 0\n",
        "      chosen_curr = []\n",
        "      kvalues_copy = kvalues.copy()\n",
        "\n",
        "      for i, val in enumerate(kvalues):\n",
        "        if val[0][-1] == tokenizer.eos_token_id:\n",
        "          chosen.append((tokenizer.decode(val[0]),val[1].item()))\n",
        "          kvalues_copy.remove(val)\n",
        "          beam_dec = True\n",
        "          dec_value += 1\n",
        "          chosen_curr.append(i)  \n",
        "      kvalues = kvalues_copy\n",
        "      if beam_dec:\n",
        "        k -= dec_value\n",
        "    for val in kvalues:\n",
        "      chosen.append((tokenizer.decode(val[0]),val[1].item()))\n",
        "    texts.append(chosen)\n",
        "    k = beamsize\n",
        "  return texts"
      ],
      "execution_count": null,
      "outputs": []
    },
    {
      "cell_type": "code",
      "metadata": {
        "colab": {
          "base_uri": "https://localhost:8080/"
        },
        "id": "ljP6540XDLpN",
        "outputId": "ed9ea621-9269-4075-9468-03eb6acabda5"
      },
      "source": [
        "texts = beam_search(sentences, max_length=20, tokenizer=tokenizer)\n",
        "texts"
      ],
      "execution_count": null,
      "outputs": [
        {
          "output_type": "execute_result",
          "data": {
            "text/plain": [
              "[[('I like walking and biking', -5.115832805633545),\n",
              "  ('I like walking and I', -5.126032829284668),\n",
              "  ('I like walking and running', -5.126280784606934),\n",
              "  ('I like walking and talking', -5.133096694946289),\n",
              "  ('I like walking and playing', -5.164862632751465),\n",
              "  ('I like walking and doing', -5.173821926116943),\n",
              "  ('I like walking and going', -5.177611351013184),\n",
              "  ('I like walking and walking', -5.178885459899902)],\n",
              " [('Martha wanted to read a book that she', -5.754121780395508),\n",
              "  ('Martha wanted to read a book that was', -5.764102935791016),\n",
              "  ('Martha wanted to read a book that would', -5.770351409912109),\n",
              "  ('Martha wanted to read a book that had', -5.79383659362793),\n",
              "  ('Martha wanted to read a book that I', -5.823231220245361),\n",
              "  ('Martha wanted to read a book that said', -5.836156845092773),\n",
              "  ('Martha wanted to read a book that might', -5.850336074829102),\n",
              "  ('Martha wanted to read a book that didn', -5.853640079498291)],\n",
              " [('Thomas is studying computer science to become', -5.337156772613525),\n",
              "  ('Thomas is studying computer science to be', -5.371553421020508),\n",
              "  ('Thomas is studying computer science to master', -5.421277046203613),\n",
              "  ('Thomas is studying computer science to help', -5.433467864990234),\n",
              "  ('Thomas is studying computer science to teach', -5.4640631675720215),\n",
              "  ('Thomas is studying computer science to pursue', -5.468589782714844),\n",
              "  ('Thomas is studying computer science to prepare', -5.476125717163086),\n",
              "  ('Thomas is studying computer science to get', -5.480411052703857)],\n",
              " [('Their friendship inspired him', -3.4273200035095215),\n",
              "  ('Their friendship inspired her', -3.460984706878662),\n",
              "  ('Their friendship inspired the', -3.466343641281128),\n",
              "  ('Their friendship inspired me', -3.4889450073242188),\n",
              "  ('Their friendship inspired a', -3.4969024658203125),\n",
              "  ('Their friendship inspired his', -3.5075325965881348),\n",
              "  ('Their friendship inspired them', -3.5542266368865967),\n",
              "  ('Their friendship inspired and', -3.556396961212158)],\n",
              " [('We should take the trash out since it', -4.995994567871094),\n",
              "  ('We should take the trash out since they', -5.031985759735107),\n",
              "  ('We should take the trash out since we', -5.06105899810791),\n",
              "  ('We should take the trash out since the', -5.076923370361328),\n",
              "  ('We should take the trash out since there', -5.084441184997559),\n",
              "  ('We should take the trash out since that', -5.089570045471191),\n",
              "  ('We should take the trash out since you', -5.124331474304199),\n",
              "  ('We should take the trash out since this', -5.147525310516357)],\n",
              " [('I am not a fan of coffee because it', -4.46718168258667),\n",
              "  ('I am not a fan of coffee because I', -4.499629020690918),\n",
              "  ('I am not a fan of coffee because of', -4.517691612243652),\n",
              "  ('I am not a fan of coffee because you', -4.596627712249756),\n",
              "  ('I am not a fan of coffee because the', -4.604696273803711),\n",
              "  ('I am not a fan of coffee because that', -4.639461040496826),\n",
              "  ('I am not a fan of coffee because coffee', -4.639841079711914),\n",
              "  ('I am not a fan of coffee because there', -4.648367881774902)],\n",
              " [('I could not complete my homework by the deadline because I',\n",
              "   -4.3236589431762695),\n",
              "  ('I could not complete my homework by the deadline because of',\n",
              "   -4.360151767730713),\n",
              "  ('I could not complete my homework by the deadline because my',\n",
              "   -4.394038677215576),\n",
              "  ('I could not complete my homework by the deadline because the',\n",
              "   -4.417172431945801),\n",
              "  ('I could not complete my homework by the deadline because it',\n",
              "   -4.417366027832031),\n",
              "  ('I could not complete my homework by the deadline because there',\n",
              "   -4.483190059661865),\n",
              "  ('I could not complete my homework by the deadline because they',\n",
              "   -4.497263431549072),\n",
              "  ('I could not complete my homework by the deadline because we',\n",
              "   -4.500283718109131)],\n",
              " [('The last semester was much easier due to the', -3.6528518199920654),\n",
              "  ('The last semester was much easier due to my', -3.7248196601867676),\n",
              "  ('The last semester was much easier due to a', -3.740767002105713),\n",
              "  ('The last semester was much easier due to our', -3.768756151199341),\n",
              "  ('The last semester was much easier due to all', -3.786437511444092),\n",
              "  ('The last semester was much easier due to it', -3.824131488800049),\n",
              "  ('The last semester was much easier due to some', -3.826977491378784),\n",
              "  ('The last semester was much easier due to being', -3.8293914794921875)],\n",
              " [('I will be painting the walls white so that I', -4.929778099060059),\n",
              "  ('I will be painting the walls white so that you', -4.936993598937988),\n",
              "  ('I will be painting the walls white so that they', -4.939416885375977),\n",
              "  ('I will be painting the walls white so that the', -4.9432373046875),\n",
              "  ('I will be painting the walls white so that it', -4.944819450378418),\n",
              "  ('I will be painting the walls white so that we', -4.968238353729248),\n",
              "  ('I will be painting the walls white so that when', -4.992568492889404),\n",
              "  ('I will be painting the walls white so that my', -5.003523826599121)]]"
            ]
          },
          "metadata": {
            "tags": []
          },
          "execution_count": 32
        }
      ]
    },
    {
      "cell_type": "markdown",
      "metadata": {
        "id": "RFrvgUGFxTaA"
      },
      "source": [
        "**TODO:** Record your observations here"
      ]
    },
    {
      "cell_type": "code",
      "metadata": {
        "colab": {
          "base_uri": "https://localhost:8080/"
        },
        "id": "bmrSw-3U5Rzw",
        "outputId": "1abe576c-305a-4def-d483-8891a32796d1"
      },
      "source": [
        "texts = beam_search(sentences, max_length=23, tokenizer=tokenizer)\n",
        "texts"
      ],
      "execution_count": null,
      "outputs": [
        {
          "output_type": "execute_result",
          "data": {
            "text/plain": [
              "[[('I like walking and biking', -4.448550224304199),\n",
              "  ('I like walking and I', -4.4574198722839355),\n",
              "  ('I like walking and running', -4.457635402679443),\n",
              "  ('I like walking and talking', -4.463562488555908),\n",
              "  ('I like walking and playing', -4.491184711456299),\n",
              "  ('I like walking and doing', -4.49897575378418),\n",
              "  ('I like walking and going', -4.502270698547363),\n",
              "  ('I like walking and walking', -4.503378391265869)],\n",
              " [('Martha wanted to read a book that she', -5.003584384918213),\n",
              "  ('Martha wanted to read a book that was', -5.012263298034668),\n",
              "  ('Martha wanted to read a book that would', -5.017696857452393),\n",
              "  ('Martha wanted to read a book that had', -5.038118839263916),\n",
              "  ('Martha wanted to read a book that I', -5.063679218292236),\n",
              "  ('Martha wanted to read a book that said', -5.0749192237854),\n",
              "  ('Martha wanted to read a book that might', -5.087248802185059),\n",
              "  ('Martha wanted to read a book that didn', -5.090121746063232)],\n",
              " [('Thomas is studying computer science to become', -4.641005992889404),\n",
              "  ('Thomas is studying computer science to be', -4.6709160804748535),\n",
              "  ('Thomas is studying computer science to master', -4.71415376663208),\n",
              "  ('Thomas is studying computer science to help', -4.724754810333252),\n",
              "  ('Thomas is studying computer science to teach', -4.751359462738037),\n",
              "  ('Thomas is studying computer science to pursue', -4.755295276641846),\n",
              "  ('Thomas is studying computer science to prepare', -4.761848449707031),\n",
              "  ('Thomas is studying computer science to get', -4.765574932098389)],\n",
              " [('Their friendship inspired him', -2.980278253555298),\n",
              "  ('Their friendship inspired her', -3.009552001953125),\n",
              "  ('Their friendship inspired the', -3.014211893081665),\n",
              "  ('Their friendship inspired me', -3.033865213394165),\n",
              "  ('Their friendship inspired a', -3.0407848358154297),\n",
              "  ('Their friendship inspired his', -3.0500283241271973),\n",
              "  ('Their friendship inspired them', -3.0906319618225098),\n",
              "  ('Their friendship inspired and', -3.0925190448760986)],\n",
              " [('We should take the trash out since it', -4.344343185424805),\n",
              "  ('We should take the trash out since they', -4.375639915466309),\n",
              "  ('We should take the trash out since we', -4.400920867919922),\n",
              "  ('We should take the trash out since the', -4.414715766906738),\n",
              "  ('We should take the trash out since there', -4.421253204345703),\n",
              "  ('We should take the trash out since that', -4.425713062286377),\n",
              "  ('We should take the trash out since you', -4.455940246582031),\n",
              "  ('We should take the trash out since this', -4.476109027862549)],\n",
              " [('I am not a fan of coffee because it', -3.8845059871673584),\n",
              "  ('I am not a fan of coffee because I', -3.9127206802368164),\n",
              "  ('I am not a fan of coffee because of', -3.928427219390869),\n",
              "  ('I am not a fan of coffee because you', -3.99706768989563),\n",
              "  ('I am not a fan of coffee because the', -4.004083633422852),\n",
              "  ('I am not a fan of coffee because that', -4.034314155578613),\n",
              "  ('I am not a fan of coffee because coffee', -4.034644603729248),\n",
              "  ('I am not a fan of coffee because there', -4.042058944702148)],\n",
              " [('I could not complete my homework by the deadline because I',\n",
              "   -3.7597036361694336),\n",
              "  ('I could not complete my homework by the deadline because of',\n",
              "   -3.791436195373535),\n",
              "  ('I could not complete my homework by the deadline because my',\n",
              "   -3.8209033012390137),\n",
              "  ('I could not complete my homework by the deadline because the',\n",
              "   -3.841019630432129),\n",
              "  ('I could not complete my homework by the deadline because it',\n",
              "   -3.8411879539489746),\n",
              "  ('I could not complete my homework by the deadline because there',\n",
              "   -3.8984262943267822),\n",
              "  ('I could not complete my homework by the deadline because they',\n",
              "   -3.9106638431549072),\n",
              "  ('I could not complete my homework by the deadline because we',\n",
              "   -3.91329026222229)],\n",
              " [('The last semester was much easier due to the', -3.1763930320739746),\n",
              "  ('The last semester was much easier due to my', -3.238973617553711),\n",
              "  ('The last semester was much easier due to a', -3.252840757369995),\n",
              "  ('The last semester was much easier due to our', -3.27717924118042),\n",
              "  ('The last semester was much easier due to all', -3.2925543785095215),\n",
              "  ('The last semester was much easier due to it', -3.325331687927246),\n",
              "  ('The last semester was much easier due to some', -3.3278064727783203),\n",
              "  ('The last semester was much easier due to being', -3.3299057483673096)],\n",
              " [('I will be painting the walls white so that I', -4.2867631912231445),\n",
              "  ('I will be painting the walls white so that you', -4.2930378913879395),\n",
              "  ('I will be painting the walls white so that they', -4.295145034790039),\n",
              "  ('I will be painting the walls white so that the', -4.29846715927124),\n",
              "  ('I will be painting the walls white so that it', -4.2998433113098145),\n",
              "  ('I will be painting the walls white so that we', -4.320207118988037),\n",
              "  ('I will be painting the walls white so that when', -4.341363906860352),\n",
              "  ('I will be painting the walls white so that my', -4.350890159606934)]]"
            ]
          },
          "metadata": {
            "tags": []
          },
          "execution_count": 33
        }
      ]
    },
    {
      "cell_type": "markdown",
      "metadata": {
        "id": "NuN4xYMu1cq1"
      },
      "source": [
        "For further exploration, you can experiment with $k$ to see how the fluency of text changes."
      ]
    }
  ]
}