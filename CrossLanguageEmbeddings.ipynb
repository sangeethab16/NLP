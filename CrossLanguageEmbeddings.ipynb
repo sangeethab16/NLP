{
  "nbformat": 4,
  "nbformat_minor": 0,
  "metadata": {
    "colab": {
      "name": "CrossLanguageEmbeddings.ipynb",
      "provenance": []
    },
    "kernelspec": {
      "name": "python3",
      "display_name": "Python 3"
    }
  },
  "cells": [
    {
      "cell_type": "markdown",
      "metadata": {
        "id": "oDsn_Motja8Q"
      },
      "source": [
        "# Cross-Language Word Embeddings\n",
        "\n",
        "We have mentioned, and will discuss in more detail this week, how we can reduce the dimensionality of word representations from their original vectors space to an embedding space on the order of a few hundred dimensions. Different modeling choices for word embeddings may be ultimately evaluated by the effectiveness of classifiers, parsers, and other inference models that use those embeddings.\n",
        "\n",
        "In this assignment, however, we will consider another common method of evaluating word embeddings: by judging the usefulness of pairwise distances between words in the embedding space.\n",
        "\n",
        "Follow along with the examples in this notebook, and implement the sections of code flagged with **TODO**."
      ]
    },
    {
      "cell_type": "code",
      "metadata": {
        "id": "UKm5cPMQ2xHU"
      },
      "source": [
        "import gensim\n",
        "import numpy as np\n",
        "from gensim.test.utils import datapath, get_tmpfile\n",
        "from gensim.models import Word2Vec\n",
        "from gensim.models.word2vec import LineSentence"
      ],
      "execution_count": null,
      "outputs": []
    },
    {
      "cell_type": "markdown",
      "metadata": {
        "id": "sfKjYFDklB4c"
      },
      "source": [
        "We'll start by downloading a plain-text version of the Shakespeare plays we used for the first assignment."
      ]
    },
    {
      "cell_type": "code",
      "metadata": {
        "id": "Dw3bvl1yf5FB",
        "colab": {
          "base_uri": "https://localhost:8080/"
        },
        "outputId": "a5eee632-becf-4a52-8fda-9dcf32386df5"
      },
      "source": [
        "!wget http://www.ccs.neu.edu/home/dasmith/courses/cs6120/shakespeare_plays.txt\n",
        "lines = [s.split() for s in open('shakespeare_plays.txt')]"
      ],
      "execution_count": null,
      "outputs": [
        {
          "output_type": "stream",
          "text": [
            "--2021-04-17 00:59:24--  http://www.ccs.neu.edu/home/dasmith/courses/cs6120/shakespeare_plays.txt\n",
            "Resolving www.ccs.neu.edu (www.ccs.neu.edu)... 52.70.229.197\n",
            "Connecting to www.ccs.neu.edu (www.ccs.neu.edu)|52.70.229.197|:80... connected.\n",
            "HTTP request sent, awaiting response... 200 OK\n",
            "Length: 4746840 (4.5M) [text/plain]\n",
            "Saving to: ‘shakespeare_plays.txt’\n",
            "\n",
            "shakespeare_plays.t 100%[===================>]   4.53M  8.76MB/s    in 0.5s    \n",
            "\n",
            "2021-04-17 00:59:24 (8.76 MB/s) - ‘shakespeare_plays.txt’ saved [4746840/4746840]\n",
            "\n"
          ],
          "name": "stdout"
        }
      ]
    },
    {
      "cell_type": "markdown",
      "metadata": {
        "id": "5cZ52pEflKKM"
      },
      "source": [
        "Then, we'll estimate a simple word2vec model on the Shakespeare texts."
      ]
    },
    {
      "cell_type": "code",
      "metadata": {
        "id": "eXT5BNPs_zjM"
      },
      "source": [
        "model = Word2Vec(lines)"
      ],
      "execution_count": null,
      "outputs": []
    },
    {
      "cell_type": "markdown",
      "metadata": {
        "id": "Fzt3lG1-lw33"
      },
      "source": [
        "Even with such a small training set size, you can perform some standard analogy tasks."
      ]
    },
    {
      "cell_type": "code",
      "metadata": {
        "id": "i4ruAqhKC3-R",
        "colab": {
          "base_uri": "https://localhost:8080/"
        },
        "outputId": "85fd96ce-3201-4d19-d091-bea476e63383"
      },
      "source": [
        "model.wv.most_similar(positive=['king','woman'], negative=['man'])"
      ],
      "execution_count": null,
      "outputs": [
        {
          "output_type": "execute_result",
          "data": {
            "text/plain": [
              "[('queen', 0.832747220993042),\n",
              " ('prince', 0.7576971054077148),\n",
              " ('york', 0.7520603537559509),\n",
              " ('warwick', 0.7433580756187439),\n",
              " ('duke', 0.7370203733444214),\n",
              " ('clarence', 0.7252764701843262),\n",
              " ('princess', 0.7183069586753845),\n",
              " ('gloucester', 0.6981997489929199),\n",
              " ('cardinal', 0.685215950012207),\n",
              " ('northumberland', 0.6812140941619873)]"
            ]
          },
          "metadata": {
            "tags": []
          },
          "execution_count": 7
        }
      ]
    },
    {
      "cell_type": "markdown",
      "metadata": {
        "id": "AJL45y5emjA9"
      },
      "source": [
        "For the rest of this assignment, we will focus on finding words with similar embeddings, both within and across languages. For example, what words are similar to the name of the title character of *Othello*?"
      ]
    },
    {
      "cell_type": "code",
      "metadata": {
        "id": "1EZGroU0KPyj",
        "colab": {
          "base_uri": "https://localhost:8080/"
        },
        "outputId": "d070d69b-e2d1-4e97-c663-a22082836af4"
      },
      "source": [
        "model.wv.most_similar(positive=['othello'])\n",
        "#model.wv.most_similar(positive=['brutus'])"
      ],
      "execution_count": null,
      "outputs": [
        {
          "output_type": "execute_result",
          "data": {
            "text/plain": [
              "[('desdemona', 0.9656510353088379),\n",
              " ('emilia', 0.9320991039276123),\n",
              " ('ham', 0.9263814687728882),\n",
              " ('cleopatra', 0.9227249622344971),\n",
              " ('cassio', 0.920681357383728),\n",
              " ('iago', 0.9193363785743713),\n",
              " ('helena', 0.9066823720932007),\n",
              " ('pisanio', 0.9065233469009399),\n",
              " ('valentine', 0.9025164842605591),\n",
              " ('imogen', 0.8993434906005859)]"
            ]
          },
          "metadata": {
            "tags": []
          },
          "execution_count": 8
        }
      ]
    },
    {
      "cell_type": "markdown",
      "metadata": {
        "id": "UM2BT_7zZle3"
      },
      "source": [
        "This search uses cosine similarity. In the default API, you should see the same similarity between the words `othello` and `desdemona` as in the search results above."
      ]
    },
    {
      "cell_type": "code",
      "metadata": {
        "id": "-e32-u4zYFda",
        "colab": {
          "base_uri": "https://localhost:8080/"
        },
        "outputId": "60984700-f9b3-4464-ed79-58e3b19f65b3"
      },
      "source": [
        "model.wv.similarity('othello', 'desdemona')"
      ],
      "execution_count": null,
      "outputs": [
        {
          "output_type": "execute_result",
          "data": {
            "text/plain": [
              "0.965651"
            ]
          },
          "metadata": {
            "tags": []
          },
          "execution_count": 9
        }
      ]
    },
    {
      "cell_type": "markdown",
      "metadata": {
        "id": "c49DwfAmZ6PU"
      },
      "source": [
        "**TODO**: Your **first task**, therefore, is to implement your own cosine similarity function so that you can reuse it outside of the context of the gensim model object."
      ]
    },
    {
      "cell_type": "code",
      "metadata": {
        "id": "rEj2PqpuZ5xs",
        "colab": {
          "base_uri": "https://localhost:8080/"
        },
        "outputId": "f1e52edb-5696-4903-a9e2-aaf3c6a5ce94"
      },
      "source": [
        "## TODO: Implement cosim\n",
        "import sklearn.metrics as metrics\n",
        "import math\n",
        "def cosim(v1, v2):\n",
        "  ## return cosine similarity between v1 and v2\n",
        "  v1 = v1.reshape(1,-1)\n",
        "  v2 = v2.reshape(1,-1)\n",
        "  dot_prod = np.dot(v1,v2.T)\n",
        "  norm_prod = np.linalg.norm(v1)*np.linalg.norm(v2)\n",
        "\n",
        "  return dot_prod/norm_prod\n",
        "\n",
        "## This should give a result similar to model.wv.similarity:\n",
        "cosim(model.wv['othello'], model.wv['desdemona'])"
      ],
      "execution_count": null,
      "outputs": [
        {
          "output_type": "execute_result",
          "data": {
            "text/plain": [
              "array([[0.965651]], dtype=float32)"
            ]
          },
          "metadata": {
            "tags": []
          },
          "execution_count": 19
        }
      ]
    },
    {
      "cell_type": "markdown",
      "metadata": {
        "id": "3TbDqBIHbHfB"
      },
      "source": [
        "## Evaluation\n",
        "\n",
        "We could collect a lot of human judgments about how similar pairs of words, or pairs of Shakespearean characters, are. Then we could compare different word-embedding models by their ability to replicate these human judgments.\n",
        "\n",
        "If we extend our ambition to multiple languages, however, we can use a word translation task to evaluate word embeddings.\n",
        "\n",
        "We will use a subset of [Facebook AI's FastText cross-language embeddings](https://fasttext.cc/docs/en/aligned-vectors.html) for several languages. Your task will be to compare English both to French, and to *one more language* from the following set: Arabic, German, Portuguese, Russian, Spanish, Vietnamese, and Chinese."
      ]
    },
    {
      "cell_type": "code",
      "metadata": {
        "id": "FC_FXRnfq1BO",
        "colab": {
          "base_uri": "https://localhost:8080/"
        },
        "outputId": "e24c0d7b-f99b-47a3-c7f5-0f7db8edf697"
      },
      "source": [
        "!wget http://www.ccs.neu.edu/home/dasmith/courses/cs6120/30k.en.vec\n",
        "!wget http://www.ccs.neu.edu/home/dasmith/courses/cs6120/30k.fr.vec\n",
        "\n",
        "# TODO: uncomment at least one of these to work with another language\n",
        "# !wget http://www.ccs.neu.edu/home/dasmith/courses/cs6120/30k.ar.vec\n",
        "!wget http://www.ccs.neu.edu/home/dasmith/courses/cs6120/30k.de.vec\n",
        "# !wget http://www.ccs.neu.edu/home/dasmith/courses/cs6120/30k.pt.vec\n",
        "# !wget http://www.ccs.neu.edu/home/dasmith/courses/cs6120/30k.ru.vec\n",
        "!wget http://www.ccs.neu.edu/home/dasmith/courses/cs6120/30k.es.vec\n",
        "# !wget http://www.ccs.neu.edu/home/dasmith/courses/cs6120/30k.vi.vec\n",
        "# !wget http://www.ccs.neu.edu/home/dasmith/courses/cs6120/30k.zh.vec"
      ],
      "execution_count": null,
      "outputs": [
        {
          "output_type": "stream",
          "text": [
            "--2021-04-17 03:26:18--  http://www.ccs.neu.edu/home/dasmith/courses/cs6120/30k.en.vec\n",
            "Resolving www.ccs.neu.edu (www.ccs.neu.edu)... 52.70.229.197\n",
            "Connecting to www.ccs.neu.edu (www.ccs.neu.edu)|52.70.229.197|:80... connected.\n",
            "HTTP request sent, awaiting response... 200 OK\n",
            "Length: 67681172 (65M)\n",
            "Saving to: ‘30k.en.vec.2’\n",
            "\n",
            "30k.en.vec.2        100%[===================>]  64.54M  31.5MB/s    in 2.0s    \n",
            "\n",
            "2021-04-17 03:26:21 (31.5 MB/s) - ‘30k.en.vec.2’ saved [67681172/67681172]\n",
            "\n",
            "--2021-04-17 03:26:21--  http://www.ccs.neu.edu/home/dasmith/courses/cs6120/30k.fr.vec\n",
            "Resolving www.ccs.neu.edu (www.ccs.neu.edu)... 52.70.229.197\n",
            "Connecting to www.ccs.neu.edu (www.ccs.neu.edu)|52.70.229.197|:80... connected.\n",
            "HTTP request sent, awaiting response... 200 OK\n",
            "Length: 67802327 (65M)\n",
            "Saving to: ‘30k.fr.vec.2’\n",
            "\n",
            "30k.fr.vec.2        100%[===================>]  64.66M  33.9MB/s    in 1.9s    \n",
            "\n",
            "2021-04-17 03:26:23 (33.9 MB/s) - ‘30k.fr.vec.2’ saved [67802327/67802327]\n",
            "\n",
            "--2021-04-17 03:26:23--  http://www.ccs.neu.edu/home/dasmith/courses/cs6120/30k.de.vec\n",
            "Resolving www.ccs.neu.edu (www.ccs.neu.edu)... 52.70.229.197\n",
            "Connecting to www.ccs.neu.edu (www.ccs.neu.edu)|52.70.229.197|:80... connected.\n",
            "HTTP request sent, awaiting response... 200 OK\n",
            "Length: 67798315 (65M)\n",
            "Saving to: ‘30k.de.vec.2’\n",
            "\n",
            "30k.de.vec.2        100%[===================>]  64.66M  33.1MB/s    in 2.0s    \n",
            "\n",
            "2021-04-17 03:26:25 (33.1 MB/s) - ‘30k.de.vec.2’ saved [67798315/67798315]\n",
            "\n",
            "--2021-04-17 03:26:25--  http://www.ccs.neu.edu/home/dasmith/courses/cs6120/30k.es.vec\n",
            "Resolving www.ccs.neu.edu (www.ccs.neu.edu)... 52.70.229.197\n",
            "Connecting to www.ccs.neu.edu (www.ccs.neu.edu)|52.70.229.197|:80... connected.\n",
            "HTTP request sent, awaiting response... 200 OK\n",
            "Length: 67762853 (65M) [application/ecmascript]\n",
            "Saving to: ‘30k.es.vec’\n",
            "\n",
            "30k.es.vec          100%[===================>]  64.62M  30.4MB/s    in 2.1s    \n",
            "\n",
            "2021-04-17 03:26:28 (30.4 MB/s) - ‘30k.es.vec’ saved [67762853/67762853]\n",
            "\n"
          ],
          "name": "stdout"
        }
      ]
    },
    {
      "cell_type": "markdown",
      "metadata": {
        "id": "nmuIvGpNrJPe"
      },
      "source": [
        "We'll start by loading the word vectors from their textual file format to a dictionary mapping words to numpy arrays."
      ]
    },
    {
      "cell_type": "code",
      "metadata": {
        "id": "VbWORXkP2Vvn"
      },
      "source": [
        "def vecref(s):\n",
        "  (word, srec) = s.split(' ', 1)\n",
        "  return (word, np.fromstring(srec, sep=' '))\n",
        "\n",
        "def ftvectors(fname):\n",
        "  return { k:v for (k, v) in [vecref(s) for s in open(fname)] if len(v) > 1} \n",
        "\n",
        "envec = ftvectors('30k.en.vec')\n",
        "frvec = ftvectors('30k.fr.vec')\n",
        "\n",
        "# TODO: load vectors for one more language, such as zhvec (Chinese)\n",
        "# arvec = ftvectors('30k.ar.vec')\n",
        "devec = ftvectors('30k.de.vec')\n",
        "# ptvec = ftvectors('30k.pt.vec')\n",
        "# ruvec = ftvectors('30k.ru.vec')\n",
        "esvec = ftvectors('30k.es.vec')\n",
        "# vivec = ftvectors('30k.vi.vec')\n",
        "# zhvec = ftvectors('30k.zh.vec')"
      ],
      "execution_count": null,
      "outputs": []
    },
    {
      "cell_type": "markdown",
      "metadata": {
        "id": "j88E1JdueZHc"
      },
      "source": [
        "**TODO**: Your next task is to write a simple function that takes a vector and a dictionary of vectors and finds the most similar item in the dictionary. For this assignment, a linear scan through the dictionary using your `cosim` function from above is acceptible."
      ]
    },
    {
      "cell_type": "code",
      "metadata": {
        "id": "gmdirYOjoSWV",
        "colab": {
          "base_uri": "https://localhost:8080/"
        },
        "outputId": "88d5a422-b638-45df-8a27-0c3a8dccaf0e"
      },
      "source": [
        "## TODO: implement this search function\n",
        "def mostSimilar(vec, vecDict):\n",
        "  ## Use your cosim function from above\n",
        "  mostSimilar = ''\n",
        "  similarity = 0\n",
        "\n",
        "# Create an empty dictionary to store the similarity values of each vector\n",
        "  cosim_arr = {}\n",
        "  for i in vecDict.keys():\n",
        "    cosim_arr[i]=cosim(vec,vecDict[i])\n",
        "\n",
        "# Get the maximum similarity\n",
        "  similarity = max(cosim_arr.values())\n",
        "\n",
        "# Extract the word with maximum similarity\n",
        "  for k,v in cosim_arr.items():\n",
        "    if v == similarity:\n",
        "      mostSimilar = k   \n",
        "\n",
        "  return (mostSimilar, similarity)\n",
        "\n",
        "## some example searches\n",
        "[mostSimilar(envec[e], frvec) for e in ['computer', 'germany', 'matrix', 'physics', 'yeast']]"
      ],
      "execution_count": null,
      "outputs": [
        {
          "output_type": "execute_result",
          "data": {
            "text/plain": [
              "[('informatique', array([[0.50238278]])),\n",
              " ('allemagne', array([[0.59371841]])),\n",
              " ('matrice', array([[0.50883613]])),\n",
              " ('physique', array([[0.45555434]])),\n",
              " ('fermentation', array([[0.35041052]]))]"
            ]
          },
          "metadata": {
            "tags": []
          },
          "execution_count": 37
        }
      ]
    },
    {
      "cell_type": "markdown",
      "metadata": {
        "id": "NIKUD5qxpUMB"
      },
      "source": [
        "Some matches make more sense than others. Note that `computer` most closely matches `informatique`, the French term for *computer science*. If you looked further down the list, you would see `ordinateur`, the term for *computer*. This is one weakness of a focus only on embeddings for word *types* independent of context.\n",
        "\n",
        "To evalute cross-language embeddings more broadly, we'll look at a dataset of links between Wikipedia articles."
      ]
    },
    {
      "cell_type": "code",
      "metadata": {
        "id": "az10sIFwsEUP",
        "colab": {
          "base_uri": "https://localhost:8080/"
        },
        "outputId": "39a1cef4-6224-4c38-e4ed-59351d011abb"
      },
      "source": [
        "!wget http://www.ccs.neu.edu/home/dasmith/courses/cs6120/links.tab\n",
        "links = [s.split() for s in open('links.tab')]"
      ],
      "execution_count": null,
      "outputs": [
        {
          "output_type": "stream",
          "text": [
            "--2021-04-17 03:28:07--  http://www.ccs.neu.edu/home/dasmith/courses/cs6120/links.tab\n",
            "Resolving www.ccs.neu.edu (www.ccs.neu.edu)... 52.70.229.197\n",
            "Connecting to www.ccs.neu.edu (www.ccs.neu.edu)|52.70.229.197|:80... connected.\n",
            "HTTP request sent, awaiting response... 200 OK\n",
            "Length: 1408915 (1.3M)\n",
            "Saving to: ‘links.tab.2’\n",
            "\n",
            "links.tab.2         100%[===================>]   1.34M  3.50MB/s    in 0.4s    \n",
            "\n",
            "2021-04-17 03:28:08 (3.50 MB/s) - ‘links.tab.2’ saved [1408915/1408915]\n",
            "\n"
          ],
          "name": "stdout"
        }
      ]
    },
    {
      "cell_type": "markdown",
      "metadata": {
        "id": "sqHq0hFCv8NY"
      },
      "source": [
        "This `links` variable consists of triples of `(English term, language, term in that language)`. For example, here is the link between English `academy` and French `académie`:"
      ]
    },
    {
      "cell_type": "code",
      "metadata": {
        "id": "RQ7eusdxtdsq",
        "colab": {
          "base_uri": "https://localhost:8080/"
        },
        "outputId": "f8a72400-b62c-40b4-9f53-f88333159f2b"
      },
      "source": [
        "links[302]"
      ],
      "execution_count": null,
      "outputs": [
        {
          "output_type": "execute_result",
          "data": {
            "text/plain": [
              "['academy', 'fr', 'académie']"
            ]
          },
          "metadata": {
            "tags": []
          },
          "execution_count": 39
        }
      ]
    },
    {
      "cell_type": "markdown",
      "metadata": {
        "id": "bYEdOQbmwql3"
      },
      "source": [
        "**TODO**: Evaluate the English and French embeddings by computing the proportion of English Wikipedia articles whose corresponding French article is also the closest word in embedding space. Skip English articles not covered by the word embedding dictionary. Since many articles, e.g., about named entities have the same title in English and French, compute the baseline accuracy achieved by simply echoing the English title as if it were French. Remember to iterate only over English Wikipedia articles, not the entire embedding dictionary."
      ]
    },
    {
      "cell_type": "code",
      "metadata": {
        "id": "RJrTJ3ja91Z4"
      },
      "source": [
        "def evaluate_models(lang,langvec):\n",
        "  accuracy = 0\n",
        "  baselineAccuracy = 0\n",
        "  article_total = 0 \n",
        "  match_count = 0\n",
        "  basematch_count =0 \n",
        "\n",
        "  for l in links:\n",
        "    if l[1]== lang:\n",
        "      article_total += 1\n",
        "      if l[0] in envec.keys() and mostSimilar(envec[l[0]],langvec)[0]== l[2]:\n",
        "        match_count += 1\n",
        "      if l[0] in envec.keys() and l[0]==l[2]:\n",
        "        basematch_count += 1\n",
        "      else:\n",
        "        continue\n",
        "\n",
        "  acc = match_count / article_total \n",
        "  base_acc = basematch_count / article_total\n",
        "  \n",
        "  return acc, base_acc"
      ],
      "execution_count": null,
      "outputs": []
    },
    {
      "cell_type": "code",
      "metadata": {
        "colab": {
          "base_uri": "https://localhost:8080/"
        },
        "id": "9rFWA0a217xM",
        "outputId": "35469720-4139-45c2-8884-792eba697074"
      },
      "source": [
        "## TODO: Compute English-French Wikipedia retrieval accuracy.\n",
        "eng_acc, eng_baseline_acc = evaluate_models('fr',frvec)\n",
        "print(\" Accuracy of English-French Wikipedia is \", eng_acc)\n",
        "print(\"Baseline accuracy of English-French Wikipedia is \", eng_baseline_acc)"
      ],
      "execution_count": null,
      "outputs": [
        {
          "output_type": "stream",
          "text": [
            " Accuracy of English-French Wikipedia is  0.5759236593278961\n",
            "Baseline accuracy of English-French Wikipedia is  0.6442534558227827\n"
          ],
          "name": "stdout"
        }
      ]
    },
    {
      "cell_type": "markdown",
      "metadata": {
        "id": "7hqd1buq-OEo"
      },
      "source": [
        "**TODO**: Compute accuracy and baseline (identity function) acccuracy for Englsih and another language besides French. Although the baseline will be lower for languages not written in the Roman alphabet (i.e., Arabic or Chinese), there are still many articles in those languages with headwords written in Roman characters."
      ]
    },
    {
      "cell_type": "code",
      "metadata": {
        "colab": {
          "base_uri": "https://localhost:8080/"
        },
        "id": "p8rc0R6nyQKS",
        "outputId": "bd1cf38d-a44a-4cbb-adbc-9342f3dc723f"
      },
      "source": [
        "## TODO: Compute English-X Wikipedia retrieval accuracy.\n",
        "es_acc, es_baseline_acc = evaluate_models('es',esvec)\n",
        "print(\" Accuracy of English-Espanol Wikipedia is \", es_acc)\n",
        "print(\"Baseline accuracy of English-Espanol Wikipedia is \", es_baseline_acc)"
      ],
      "execution_count": null,
      "outputs": [
        {
          "output_type": "stream",
          "text": [
            " Accuracy of English-Espanol Wikipedia is  0.0759319427255674\n",
            "Baseline accuracy of English-Espanol Wikipedia is  0.2276587239848372\n"
          ],
          "name": "stdout"
        }
      ]
    },
    {
      "cell_type": "markdown",
      "metadata": {
        "id": "E6z01sufFPJh"
      },
      "source": [
        "Further evaluation, if you are interested, could involve looking at the $k$ nearest neighbors of each English term to compute \"recall at 10\" or \"mean reciprocal rank at 10\"."
      ]
    }
  ]
}