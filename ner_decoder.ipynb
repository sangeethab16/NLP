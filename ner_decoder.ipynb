{
  "nbformat": 4,
  "nbformat_minor": 0,
  "metadata": {
    "colab": {
      "name": "ner_decoder.ipynb",
      "provenance": [],
      "collapsed_sections": []
    },
    "kernelspec": {
      "name": "python3",
      "display_name": "Python 3"
    },
    "accelerator": "GPU"
  },
  "cells": [
    {
      "cell_type": "markdown",
      "metadata": {
        "id": "IsY0LJOIT_cG"
      },
      "source": [
        "# Implementing a Viterbi Decoder and Evaluation for Sequence Labeling\n",
        "\n",
        "In this assignment, you will build a Viterbi decoder for an LSTM named-entity recognition model. As we mentioned in class, recurrent and bidirectional recurrent neural networks, of which LSTMs are the most common examples, can be used to perform sequence labeling. Although these models encode information from the surrounding words in order to make predictions, there are no \"hard\" constraints on what tags can appear where.\n",
        "\n",
        "There hard constraints are particularly important for tasks that label spans of more than one token. The most common example of a span-labeling task is named-entity recognition (NER). As described in Eisenstein, Jurafksy & Martin, and other texts, the goal of NER is to label spans of one or more words as _mentions_ of an _entity_, such as a person, location, organization, etc.\n",
        "\n",
        "The most common approach to NER is to reduce it to a sequence-labeling task, where each token in the input is labeled either with an `O`, if it is \"outside\" any named-entity span, or with `B-TYPE`, if it is the first token in an entity of type `TYPE`, or with `I-TYPE`, if it is the second or later token in an entity of type `TYPE`. Distinguishing between the first and later tokens of an entity allow us to identify distinct entity spans even when they are adjacent.\n",
        "\n",
        "Common values of `TYPE` include `PER` for person, `LOC` for location, `DATE` for date, and so on. In the dataset we load below, there are 17 distinct types.\n",
        "\n",
        "The span-labeling scheme just described implies that the labels on tokens must obey certain constraints: the tag `I-PER` must follow either `B-PER` or another `I-PER`. It cannot follow `O`, `B-LOC`, or `I-LOC`, i.e., a tag for a different entity type. By themselves, LSTMs or bidirectional LSTMs cannot directly enforce these constraints. This is one reason why conditional random fields (CRFs), which _can_ enforce these constraints, are often layered on top of these recurrent models.\n",
        "\n",
        "In this assignment, you will implement the simplest possible CRF: a CRF so simple that it does not require any training. Rather, it will assign weight 1 to any sequence of tags that obeys the constraints and weight 0 to any sequence of tags that violates them. The inputs to the CRF, which are analogous to the emission probabilities in an HMM, will come from an LSTM.\n",
        "\n",
        "But first, in order to test your decoder, you will also implement some functions to evaluate the output of an NER system according to two metrics:\n",
        "1. You will count the number of _violations_ of the NER label constraints, i.e., how many times `I-TYPE` follows `O` or a tag of a different type or occurs at the beginning of a sentence. This number will be greater than 0 in the raw LSTM output, but should be 0 for your CRF output.\n",
        "1. You will compute the _span-level_ precision, recall, and F1 of NER output. Although the baseline LSTM was trained to achieve high _token-level_ accuracy, this metric can be misleadingly high, since so many tokens are correctly labeled `O`. In other words, what proportion of spans predicted by the model line up exactly with spans in the gold standard, and what proportion of spans in the gold standard were predicted by the model? Define _span_ as a sequence of tags that starts with a `B-TYPE` followed by zero or more `I-TYPE` tags. Sequences solely of `I-TYPE` tags don't count as spans.For more, see the original task definition: https://www.aclweb.org/anthology/W03-0419/.\n",
        "\n",
        "We start with loading some code and data and the describe your tasks in more detail."
      ]
    },
    {
      "cell_type": "markdown",
      "metadata": {
        "id": "Dhnn49QEU_Ik"
      },
      "source": [
        "## Set Up Dependencies and Definitions"
      ]
    },
    {
      "cell_type": "code",
      "metadata": {
        "id": "QJINX1MwOLBT",
        "colab": {
          "base_uri": "https://localhost:8080/"
        },
        "outputId": "9e738382-aecd-4f55-bef2-662dc4c7924e"
      },
      "source": [
        "!pip install --upgrade spacy==2.1.0 allennlp==0.9.0\n",
        "import spacy"
      ],
      "execution_count": null,
      "outputs": [
        {
          "output_type": "stream",
          "text": [
            "Collecting spacy==2.1.0\n",
            "\u001b[?25l  Downloading https://files.pythonhosted.org/packages/78/0f/ca790def675011f25bce8775cf9002b5085cd2288f85e891f70b32c18752/spacy-2.1.0-cp37-cp37m-manylinux1_x86_64.whl (27.7MB)\n",
            "\u001b[K     |████████████████████████████████| 27.7MB 108kB/s \n",
            "\u001b[?25hCollecting allennlp==0.9.0\n",
            "\u001b[?25l  Downloading https://files.pythonhosted.org/packages/bb/bb/041115d8bad1447080e5d1e30097c95e4b66e36074277afce8620a61cee3/allennlp-0.9.0-py3-none-any.whl (7.6MB)\n",
            "\u001b[K     |████████████████████████████████| 7.6MB 29.6MB/s \n",
            "\u001b[?25hRequirement already satisfied, skipping upgrade: cymem<2.1.0,>=2.0.2 in /usr/local/lib/python3.7/dist-packages (from spacy==2.1.0) (2.0.5)\n",
            "Requirement already satisfied, skipping upgrade: wasabi<1.1.0,>=0.0.12 in /usr/local/lib/python3.7/dist-packages (from spacy==2.1.0) (0.8.2)\n",
            "Requirement already satisfied, skipping upgrade: jsonschema<3.0.0,>=2.6.0 in /usr/local/lib/python3.7/dist-packages (from spacy==2.1.0) (2.6.0)\n",
            "Requirement already satisfied, skipping upgrade: srsly<1.1.0,>=0.0.5 in /usr/local/lib/python3.7/dist-packages (from spacy==2.1.0) (1.0.5)\n",
            "Collecting plac<1.0.0,>=0.9.6\n",
            "  Downloading https://files.pythonhosted.org/packages/9e/9b/62c60d2f5bc135d2aa1d8c8a86aaf84edb719a59c7f11a4316259e61a298/plac-0.9.6-py2.py3-none-any.whl\n",
            "Collecting blis<0.3.0,>=0.2.2\n",
            "\u001b[?25l  Downloading https://files.pythonhosted.org/packages/fa/5f/47b7b29ad202b2210020e2f33bfb06d1db2abe0e709c2a84736e8a9d1bd5/blis-0.2.4-cp37-cp37m-manylinux1_x86_64.whl (3.2MB)\n",
            "\u001b[K     |████████████████████████████████| 3.2MB 47.3MB/s \n",
            "\u001b[?25hRequirement already satisfied, skipping upgrade: requests<3.0.0,>=2.13.0 in /usr/local/lib/python3.7/dist-packages (from spacy==2.1.0) (2.23.0)\n",
            "Requirement already satisfied, skipping upgrade: numpy>=1.15.0 in /usr/local/lib/python3.7/dist-packages (from spacy==2.1.0) (1.19.5)\n",
            "Collecting preshed<2.1.0,>=2.0.1\n",
            "\u001b[?25l  Downloading https://files.pythonhosted.org/packages/bc/2b/3ecd5d90d2d6fd39fbc520de7d80db5d74defdc2d7c2e15531d9cc3498c7/preshed-2.0.1-cp37-cp37m-manylinux1_x86_64.whl (82kB)\n",
            "\u001b[K     |████████████████████████████████| 92kB 12.3MB/s \n",
            "\u001b[?25hCollecting thinc<7.1.0,>=7.0.2\n",
            "\u001b[?25l  Downloading https://files.pythonhosted.org/packages/36/42/d7ea7539af3852fd8c1f0b3adf4a100fb3d72b40b69cef1a764ff979a743/thinc-7.0.8-cp37-cp37m-manylinux1_x86_64.whl (2.1MB)\n",
            "\u001b[K     |████████████████████████████████| 2.1MB 43.6MB/s \n",
            "\u001b[?25hRequirement already satisfied, skipping upgrade: murmurhash<1.1.0,>=0.28.0 in /usr/local/lib/python3.7/dist-packages (from spacy==2.1.0) (1.0.5)\n",
            "Collecting conllu==1.3.1\n",
            "  Downloading https://files.pythonhosted.org/packages/ae/54/b0ae1199f3d01666821b028cd967f7c0ac527ab162af433d3da69242cea2/conllu-1.3.1-py2.py3-none-any.whl\n",
            "Collecting parsimonious>=0.8.0\n",
            "\u001b[?25l  Downloading https://files.pythonhosted.org/packages/02/fc/067a3f89869a41009e1a7cdfb14725f8ddd246f30f63c645e8ef8a1c56f4/parsimonious-0.8.1.tar.gz (45kB)\n",
            "\u001b[K     |████████████████████████████████| 51kB 8.1MB/s \n",
            "\u001b[?25hCollecting overrides\n",
            "  Downloading https://files.pythonhosted.org/packages/ff/b1/10f69c00947518e6676bbd43e739733048de64b8dd998e9c2d5a71f44c5d/overrides-3.1.0.tar.gz\n",
            "Collecting boto3\n",
            "\u001b[?25l  Downloading https://files.pythonhosted.org/packages/37/d6/b16f09ce6fc7888e554cf289be0872456e9cab68d9944e4b8e25d3b6af93/boto3-1.17.42-py2.py3-none-any.whl (131kB)\n",
            "\u001b[K     |████████████████████████████████| 133kB 52.9MB/s \n",
            "\u001b[?25hRequirement already satisfied, skipping upgrade: pytest in /usr/local/lib/python3.7/dist-packages (from allennlp==0.9.0) (3.6.4)\n",
            "Requirement already satisfied, skipping upgrade: torch>=1.2.0 in /usr/local/lib/python3.7/dist-packages (from allennlp==0.9.0) (1.8.1+cu101)\n",
            "Collecting pytorch-pretrained-bert>=0.6.0\n",
            "\u001b[?25l  Downloading https://files.pythonhosted.org/packages/d7/e0/c08d5553b89973d9a240605b9c12404bcf8227590de62bae27acbcfe076b/pytorch_pretrained_bert-0.6.2-py3-none-any.whl (123kB)\n",
            "\u001b[K     |████████████████████████████████| 133kB 54.9MB/s \n",
            "\u001b[?25hRequirement already satisfied, skipping upgrade: pytz>=2017.3 in /usr/local/lib/python3.7/dist-packages (from allennlp==0.9.0) (2018.9)\n",
            "Collecting word2number>=1.1\n",
            "  Downloading https://files.pythonhosted.org/packages/4a/29/a31940c848521f0725f0df6b25dca8917f13a2025b0e8fcbe5d0457e45e6/word2number-1.1.zip\n",
            "Requirement already satisfied, skipping upgrade: editdistance in /usr/local/lib/python3.7/dist-packages (from allennlp==0.9.0) (0.5.3)\n",
            "Collecting tensorboardX>=1.2\n",
            "\u001b[?25l  Downloading https://files.pythonhosted.org/packages/af/0c/4f41bcd45db376e6fe5c619c01100e9b7531c55791b7244815bac6eac32c/tensorboardX-2.1-py2.py3-none-any.whl (308kB)\n",
            "\u001b[K     |████████████████████████████████| 317kB 51.9MB/s \n",
            "\u001b[?25hCollecting ftfy\n",
            "\u001b[?25l  Downloading https://files.pythonhosted.org/packages/04/06/e5c80e2e0f979628d47345efba51f7ba386fe95963b11c594209085f5a9b/ftfy-5.9.tar.gz (66kB)\n",
            "\u001b[K     |████████████████████████████████| 71kB 9.7MB/s \n",
            "\u001b[?25hRequirement already satisfied, skipping upgrade: h5py in /usr/local/lib/python3.7/dist-packages (from allennlp==0.9.0) (2.10.0)\n",
            "Collecting flask-cors>=3.0.7\n",
            "  Downloading https://files.pythonhosted.org/packages/db/84/901e700de86604b1c4ef4b57110d4e947c218b9997adf5d38fa7da493bce/Flask_Cors-3.0.10-py2.py3-none-any.whl\n",
            "Requirement already satisfied, skipping upgrade: tqdm>=4.19 in /usr/local/lib/python3.7/dist-packages (from allennlp==0.9.0) (4.41.1)\n",
            "Collecting flaky\n",
            "  Downloading https://files.pythonhosted.org/packages/43/0e/2f50064e327f41a1eb811df089f813036e19a64b95e33f8e9e0b96c2447e/flaky-3.7.0-py2.py3-none-any.whl\n",
            "Collecting unidecode\n",
            "\u001b[?25l  Downloading https://files.pythonhosted.org/packages/9e/25/723487ca2a52ebcee88a34d7d1f5a4b80b793f179ee0f62d5371938dfa01/Unidecode-1.2.0-py2.py3-none-any.whl (241kB)\n",
            "\u001b[K     |████████████████████████████████| 245kB 54.7MB/s \n",
            "\u001b[?25hRequirement already satisfied, skipping upgrade: sqlparse>=0.2.4 in /usr/local/lib/python3.7/dist-packages (from allennlp==0.9.0) (0.4.1)\n",
            "Collecting numpydoc>=0.8.0\n",
            "\u001b[?25l  Downloading https://files.pythonhosted.org/packages/60/1d/9e398c53d6ae27d5ab312ddc16a9ffe1bee0dfdf1d6ec88c40b0ca97582e/numpydoc-1.1.0-py3-none-any.whl (47kB)\n",
            "\u001b[K     |████████████████████████████████| 51kB 7.2MB/s \n",
            "\u001b[?25hRequirement already satisfied, skipping upgrade: flask>=1.0.2 in /usr/local/lib/python3.7/dist-packages (from allennlp==0.9.0) (1.1.2)\n",
            "Collecting pytorch-transformers==1.1.0\n",
            "\u001b[?25l  Downloading https://files.pythonhosted.org/packages/50/89/ad0d6bb932d0a51793eaabcf1617a36ff530dc9ab9e38f765a35dc293306/pytorch_transformers-1.1.0-py3-none-any.whl (158kB)\n",
            "\u001b[K     |████████████████████████████████| 163kB 51.3MB/s \n",
            "\u001b[?25hRequirement already satisfied, skipping upgrade: scipy in /usr/local/lib/python3.7/dist-packages (from allennlp==0.9.0) (1.4.1)\n",
            "Collecting responses>=0.7\n",
            "  Downloading https://files.pythonhosted.org/packages/a8/ba/03b4c978708510c2ab52a75804530edfd96647f3de44abe1cf25d16150ad/responses-0.13.2-py2.py3-none-any.whl\n",
            "Collecting jsonpickle\n",
            "  Downloading https://files.pythonhosted.org/packages/bb/1a/f2db026d4d682303793559f1c2bb425ba3ec0d6fd7ac63397790443f2461/jsonpickle-2.0.0-py2.py3-none-any.whl\n",
            "Collecting gevent>=1.3.6\n",
            "\u001b[?25l  Downloading https://files.pythonhosted.org/packages/3e/85/df3d1fd2b60a87455475f93012861b76a411d27ba4a0859939adbe2c9dc3/gevent-21.1.2-cp37-cp37m-manylinux2010_x86_64.whl (5.6MB)\n",
            "\u001b[K     |████████████████████████████████| 5.6MB 48.0MB/s \n",
            "\u001b[?25hCollecting jsonnet>=0.10.0; sys_platform != \"win32\"\n",
            "\u001b[?25l  Downloading https://files.pythonhosted.org/packages/42/40/6f16e5ac994b16fa71c24310f97174ce07d3a97b433275589265c6b94d2b/jsonnet-0.17.0.tar.gz (259kB)\n",
            "\u001b[K     |████████████████████████████████| 266kB 49.5MB/s \n",
            "\u001b[?25hRequirement already satisfied, skipping upgrade: nltk in /usr/local/lib/python3.7/dist-packages (from allennlp==0.9.0) (3.2.5)\n",
            "Requirement already satisfied, skipping upgrade: matplotlib>=2.2.3 in /usr/local/lib/python3.7/dist-packages (from allennlp==0.9.0) (3.2.2)\n",
            "Requirement already satisfied, skipping upgrade: scikit-learn in /usr/local/lib/python3.7/dist-packages (from allennlp==0.9.0) (0.22.2.post1)\n",
            "Requirement already satisfied, skipping upgrade: certifi>=2017.4.17 in /usr/local/lib/python3.7/dist-packages (from requests<3.0.0,>=2.13.0->spacy==2.1.0) (2020.12.5)\n",
            "Requirement already satisfied, skipping upgrade: idna<3,>=2.5 in /usr/local/lib/python3.7/dist-packages (from requests<3.0.0,>=2.13.0->spacy==2.1.0) (2.10)\n",
            "Requirement already satisfied, skipping upgrade: chardet<4,>=3.0.2 in /usr/local/lib/python3.7/dist-packages (from requests<3.0.0,>=2.13.0->spacy==2.1.0) (3.0.4)\n",
            "Requirement already satisfied, skipping upgrade: urllib3!=1.25.0,!=1.25.1,<1.26,>=1.21.1 in /usr/local/lib/python3.7/dist-packages (from requests<3.0.0,>=2.13.0->spacy==2.1.0) (1.24.3)\n",
            "Requirement already satisfied, skipping upgrade: six>=1.9.0 in /usr/local/lib/python3.7/dist-packages (from parsimonious>=0.8.0->allennlp==0.9.0) (1.15.0)\n",
            "Collecting jmespath<1.0.0,>=0.7.1\n",
            "  Downloading https://files.pythonhosted.org/packages/07/cb/5f001272b6faeb23c1c9e0acc04d48eaaf5c862c17709d20e3469c6e0139/jmespath-0.10.0-py2.py3-none-any.whl\n",
            "Collecting s3transfer<0.4.0,>=0.3.0\n",
            "\u001b[?25l  Downloading https://files.pythonhosted.org/packages/98/14/0b4be62b65c52d6d1c442f24e02d2a9889a73d3c352002e14c70f84a679f/s3transfer-0.3.6-py2.py3-none-any.whl (73kB)\n",
            "\u001b[K     |████████████████████████████████| 81kB 9.3MB/s \n",
            "\u001b[?25hCollecting botocore<1.21.0,>=1.20.42\n",
            "\u001b[?25l  Downloading https://files.pythonhosted.org/packages/00/bc/53cbcc88c72f014f199bc2b8a12af1d5c234eee6a372b2765a7e4086a752/botocore-1.20.42-py2.py3-none-any.whl (7.4MB)\n",
            "\u001b[K     |████████████████████████████████| 7.4MB 42.7MB/s \n",
            "\u001b[?25hRequirement already satisfied, skipping upgrade: attrs>=17.4.0 in /usr/local/lib/python3.7/dist-packages (from pytest->allennlp==0.9.0) (20.3.0)\n",
            "Requirement already satisfied, skipping upgrade: setuptools in /usr/local/lib/python3.7/dist-packages (from pytest->allennlp==0.9.0) (54.2.0)\n",
            "Requirement already satisfied, skipping upgrade: atomicwrites>=1.0 in /usr/local/lib/python3.7/dist-packages (from pytest->allennlp==0.9.0) (1.4.0)\n",
            "Requirement already satisfied, skipping upgrade: py>=1.5.0 in /usr/local/lib/python3.7/dist-packages (from pytest->allennlp==0.9.0) (1.10.0)\n",
            "Requirement already satisfied, skipping upgrade: pluggy<0.8,>=0.5 in /usr/local/lib/python3.7/dist-packages (from pytest->allennlp==0.9.0) (0.7.1)\n",
            "Requirement already satisfied, skipping upgrade: more-itertools>=4.0.0 in /usr/local/lib/python3.7/dist-packages (from pytest->allennlp==0.9.0) (8.7.0)\n",
            "Requirement already satisfied, skipping upgrade: typing-extensions in /usr/local/lib/python3.7/dist-packages (from torch>=1.2.0->allennlp==0.9.0) (3.7.4.3)\n",
            "Requirement already satisfied, skipping upgrade: regex in /usr/local/lib/python3.7/dist-packages (from pytorch-pretrained-bert>=0.6.0->allennlp==0.9.0) (2019.12.20)\n",
            "Requirement already satisfied, skipping upgrade: protobuf>=3.8.0 in /usr/local/lib/python3.7/dist-packages (from tensorboardX>=1.2->allennlp==0.9.0) (3.12.4)\n",
            "Requirement already satisfied, skipping upgrade: wcwidth in /usr/local/lib/python3.7/dist-packages (from ftfy->allennlp==0.9.0) (0.2.5)\n",
            "Requirement already satisfied, skipping upgrade: sphinx>=1.6.5 in /usr/local/lib/python3.7/dist-packages (from numpydoc>=0.8.0->allennlp==0.9.0) (1.8.5)\n",
            "Requirement already satisfied, skipping upgrade: Jinja2>=2.3 in /usr/local/lib/python3.7/dist-packages (from numpydoc>=0.8.0->allennlp==0.9.0) (2.11.3)\n",
            "Requirement already satisfied, skipping upgrade: Werkzeug>=0.15 in /usr/local/lib/python3.7/dist-packages (from flask>=1.0.2->allennlp==0.9.0) (1.0.1)\n",
            "Requirement already satisfied, skipping upgrade: click>=5.1 in /usr/local/lib/python3.7/dist-packages (from flask>=1.0.2->allennlp==0.9.0) (7.1.2)\n",
            "Requirement already satisfied, skipping upgrade: itsdangerous>=0.24 in /usr/local/lib/python3.7/dist-packages (from flask>=1.0.2->allennlp==0.9.0) (1.1.0)\n",
            "Collecting sentencepiece\n",
            "\u001b[?25l  Downloading https://files.pythonhosted.org/packages/f5/99/e0808cb947ba10f575839c43e8fafc9cc44e4a7a2c8f79c60db48220a577/sentencepiece-0.1.95-cp37-cp37m-manylinux2014_x86_64.whl (1.2MB)\n",
            "\u001b[K     |████████████████████████████████| 1.2MB 50.6MB/s \n",
            "\u001b[?25hRequirement already satisfied, skipping upgrade: importlib-metadata; python_version < \"3.8\" in /usr/local/lib/python3.7/dist-packages (from jsonpickle->allennlp==0.9.0) (3.8.1)\n",
            "Collecting zope.interface\n",
            "\u001b[?25l  Downloading https://files.pythonhosted.org/packages/89/57/8a68360d697cf9159cba5ee35f2d25bdcda33883e8b5a997714a191a0b11/zope.interface-5.3.0-cp37-cp37m-manylinux2010_x86_64.whl (248kB)\n",
            "\u001b[K     |████████████████████████████████| 256kB 61.2MB/s \n",
            "\u001b[?25hRequirement already satisfied, skipping upgrade: greenlet<2.0,>=0.4.17; platform_python_implementation == \"CPython\" in /usr/local/lib/python3.7/dist-packages (from gevent>=1.3.6->allennlp==0.9.0) (1.0.0)\n",
            "Collecting zope.event\n",
            "  Downloading https://files.pythonhosted.org/packages/9e/85/b45408c64f3b888976f1d5b37eed8d746b8d5729a66a49ec846fda27d371/zope.event-4.5.0-py2.py3-none-any.whl\n",
            "Requirement already satisfied, skipping upgrade: kiwisolver>=1.0.1 in /usr/local/lib/python3.7/dist-packages (from matplotlib>=2.2.3->allennlp==0.9.0) (1.3.1)\n",
            "Requirement already satisfied, skipping upgrade: python-dateutil>=2.1 in /usr/local/lib/python3.7/dist-packages (from matplotlib>=2.2.3->allennlp==0.9.0) (2.8.1)\n",
            "Requirement already satisfied, skipping upgrade: pyparsing!=2.0.4,!=2.1.2,!=2.1.6,>=2.0.1 in /usr/local/lib/python3.7/dist-packages (from matplotlib>=2.2.3->allennlp==0.9.0) (2.4.7)\n",
            "Requirement already satisfied, skipping upgrade: cycler>=0.10 in /usr/local/lib/python3.7/dist-packages (from matplotlib>=2.2.3->allennlp==0.9.0) (0.10.0)\n",
            "Requirement already satisfied, skipping upgrade: joblib>=0.11 in /usr/local/lib/python3.7/dist-packages (from scikit-learn->allennlp==0.9.0) (1.0.1)\n",
            "Requirement already satisfied, skipping upgrade: packaging in /usr/local/lib/python3.7/dist-packages (from sphinx>=1.6.5->numpydoc>=0.8.0->allennlp==0.9.0) (20.9)\n",
            "Requirement already satisfied, skipping upgrade: Pygments>=2.0 in /usr/local/lib/python3.7/dist-packages (from sphinx>=1.6.5->numpydoc>=0.8.0->allennlp==0.9.0) (2.6.1)\n",
            "Requirement already satisfied, skipping upgrade: docutils>=0.11 in /usr/local/lib/python3.7/dist-packages (from sphinx>=1.6.5->numpydoc>=0.8.0->allennlp==0.9.0) (0.16)\n",
            "Requirement already satisfied, skipping upgrade: sphinxcontrib-websupport in /usr/local/lib/python3.7/dist-packages (from sphinx>=1.6.5->numpydoc>=0.8.0->allennlp==0.9.0) (1.2.4)\n",
            "Requirement already satisfied, skipping upgrade: alabaster<0.8,>=0.7 in /usr/local/lib/python3.7/dist-packages (from sphinx>=1.6.5->numpydoc>=0.8.0->allennlp==0.9.0) (0.7.12)\n",
            "Requirement already satisfied, skipping upgrade: babel!=2.0,>=1.3 in /usr/local/lib/python3.7/dist-packages (from sphinx>=1.6.5->numpydoc>=0.8.0->allennlp==0.9.0) (2.9.0)\n",
            "Requirement already satisfied, skipping upgrade: snowballstemmer>=1.1 in /usr/local/lib/python3.7/dist-packages (from sphinx>=1.6.5->numpydoc>=0.8.0->allennlp==0.9.0) (2.1.0)\n",
            "Requirement already satisfied, skipping upgrade: imagesize in /usr/local/lib/python3.7/dist-packages (from sphinx>=1.6.5->numpydoc>=0.8.0->allennlp==0.9.0) (1.2.0)\n",
            "Requirement already satisfied, skipping upgrade: MarkupSafe>=0.23 in /usr/local/lib/python3.7/dist-packages (from Jinja2>=2.3->numpydoc>=0.8.0->allennlp==0.9.0) (1.1.1)\n",
            "Requirement already satisfied, skipping upgrade: zipp>=0.5 in /usr/local/lib/python3.7/dist-packages (from importlib-metadata; python_version < \"3.8\"->jsonpickle->allennlp==0.9.0) (3.4.1)\n",
            "Requirement already satisfied, skipping upgrade: sphinxcontrib-serializinghtml in /usr/local/lib/python3.7/dist-packages (from sphinxcontrib-websupport->sphinx>=1.6.5->numpydoc>=0.8.0->allennlp==0.9.0) (1.1.4)\n",
            "Building wheels for collected packages: parsimonious, overrides, word2number, ftfy, jsonnet\n",
            "  Building wheel for parsimonious (setup.py) ... \u001b[?25l\u001b[?25hdone\n",
            "  Created wheel for parsimonious: filename=parsimonious-0.8.1-cp37-none-any.whl size=42711 sha256=09f9f0ceff36b4a92a5f2136e55e1eb37a46ee8bff633a05fac92aae3e3fad05\n",
            "  Stored in directory: /root/.cache/pip/wheels/b7/8d/e7/a0e74217da5caeb3c1c7689639b6d28ddbf9985b840bc96a9a\n",
            "  Building wheel for overrides (setup.py) ... \u001b[?25l\u001b[?25hdone\n",
            "  Created wheel for overrides: filename=overrides-3.1.0-cp37-none-any.whl size=10174 sha256=d77a47924295c48c78f1ad7ca1a70cd6128c3669d93b93990e0421b9cead12d1\n",
            "  Stored in directory: /root/.cache/pip/wheels/5c/24/13/6ef8600e6f147c95e595f1289a86a3cc82ed65df57582c65a9\n",
            "  Building wheel for word2number (setup.py) ... \u001b[?25l\u001b[?25hdone\n",
            "  Created wheel for word2number: filename=word2number-1.1-cp37-none-any.whl size=5589 sha256=e8d95eb6552ff99cba6638a382075952c9f200fb4b349718fd9c1170eba177ed\n",
            "  Stored in directory: /root/.cache/pip/wheels/46/2f/53/5f5c1d275492f2fce1cdab9a9bb12d49286dead829a4078e0e\n",
            "  Building wheel for ftfy (setup.py) ... \u001b[?25l\u001b[?25hdone\n",
            "  Created wheel for ftfy: filename=ftfy-5.9-cp37-none-any.whl size=46451 sha256=45cc74bc482e554d949a7a9170cfb25aeb84fdbb6253e98d5f84630f897b7e8f\n",
            "  Stored in directory: /root/.cache/pip/wheels/5e/2e/f0/b07196e8c929114998f0316894a61c752b63bfa3fdd50d2fc3\n",
            "  Building wheel for jsonnet (setup.py) ... \u001b[?25l\u001b[?25hdone\n",
            "  Created wheel for jsonnet: filename=jsonnet-0.17.0-cp37-cp37m-linux_x86_64.whl size=3388776 sha256=dff38f663782001f3cf4f1cfd2e1179b35bf90723d7952d8868c30d323d57368\n",
            "  Stored in directory: /root/.cache/pip/wheels/26/7a/37/7dbcc30a6b4efd17b91ad1f0128b7bbf84813bd4e1cfb8c1e3\n",
            "Successfully built parsimonious overrides word2number ftfy jsonnet\n",
            "\u001b[31mERROR: en-core-web-sm 2.2.5 has requirement spacy>=2.2.2, but you'll have spacy 2.1.0 which is incompatible.\u001b[0m\n",
            "\u001b[31mERROR: botocore 1.20.42 has requirement urllib3<1.27,>=1.25.4, but you'll have urllib3 1.24.3 which is incompatible.\u001b[0m\n",
            "\u001b[31mERROR: responses 0.13.2 has requirement urllib3>=1.25.10, but you'll have urllib3 1.24.3 which is incompatible.\u001b[0m\n",
            "Installing collected packages: plac, blis, preshed, thinc, spacy, conllu, parsimonious, overrides, jmespath, botocore, s3transfer, boto3, pytorch-pretrained-bert, word2number, tensorboardX, ftfy, flask-cors, flaky, unidecode, numpydoc, sentencepiece, pytorch-transformers, responses, jsonpickle, zope.interface, zope.event, gevent, jsonnet, allennlp\n",
            "  Found existing installation: plac 1.1.3\n",
            "    Uninstalling plac-1.1.3:\n",
            "      Successfully uninstalled plac-1.1.3\n",
            "  Found existing installation: blis 0.4.1\n",
            "    Uninstalling blis-0.4.1:\n",
            "      Successfully uninstalled blis-0.4.1\n",
            "  Found existing installation: preshed 3.0.5\n",
            "    Uninstalling preshed-3.0.5:\n",
            "      Successfully uninstalled preshed-3.0.5\n",
            "  Found existing installation: thinc 7.4.0\n",
            "    Uninstalling thinc-7.4.0:\n",
            "      Successfully uninstalled thinc-7.4.0\n",
            "  Found existing installation: spacy 2.2.4\n",
            "    Uninstalling spacy-2.2.4:\n",
            "      Successfully uninstalled spacy-2.2.4\n",
            "Successfully installed allennlp-0.9.0 blis-0.2.4 boto3-1.17.42 botocore-1.20.42 conllu-1.3.1 flaky-3.7.0 flask-cors-3.0.10 ftfy-5.9 gevent-21.1.2 jmespath-0.10.0 jsonnet-0.17.0 jsonpickle-2.0.0 numpydoc-1.1.0 overrides-3.1.0 parsimonious-0.8.1 plac-0.9.6 preshed-2.0.1 pytorch-pretrained-bert-0.6.2 pytorch-transformers-1.1.0 responses-0.13.2 s3transfer-0.3.6 sentencepiece-0.1.95 spacy-2.1.0 tensorboardX-2.1 thinc-7.0.8 unidecode-1.2.0 word2number-1.1 zope.event-4.5.0 zope.interface-5.3.0\n"
          ],
          "name": "stdout"
        }
      ]
    },
    {
      "cell_type": "code",
      "metadata": {
        "id": "f4zJfaIlJ2bv",
        "colab": {
          "base_uri": "https://localhost:8080/"
        },
        "outputId": "e773c29c-10c6-4e43-aec4-4d5c7f65ebc0"
      },
      "source": [
        "from typing import Iterator, List, Dict\n",
        "import torch\n",
        "import torch.optim as optim\n",
        "import numpy as np\n",
        "from allennlp.data import Instance\n",
        "from allennlp.data.fields import TextField, SequenceLabelField\n",
        "from allennlp.data.dataset_readers import DatasetReader\n",
        "from allennlp.common.file_utils import cached_path\n",
        "from allennlp.data.token_indexers import TokenIndexer, SingleIdTokenIndexer\n",
        "from allennlp.data.tokenizers import Token\n",
        "from allennlp.data.vocabulary import Vocabulary\n",
        "from allennlp.models import Model\n",
        "from allennlp.modules.text_field_embedders import TextFieldEmbedder, BasicTextFieldEmbedder\n",
        "from allennlp.modules.token_embedders import Embedding\n",
        "from allennlp.modules.seq2seq_encoders import Seq2SeqEncoder, PytorchSeq2SeqWrapper\n",
        "from allennlp.nn.util import get_text_field_mask, sequence_cross_entropy_with_logits\n",
        "from allennlp.training.metrics import CategoricalAccuracy\n",
        "from allennlp.data.iterators import BucketIterator\n",
        "from allennlp.training.trainer import Trainer\n",
        "from allennlp.predictors import SentenceTaggerPredictor\n",
        "from allennlp.data.dataset_readers import conll2003\n",
        "\n",
        "torch.manual_seed(1)"
      ],
      "execution_count": null,
      "outputs": [
        {
          "output_type": "execute_result",
          "data": {
            "text/plain": [
              "<torch._C.Generator at 0x7fc9af240e10>"
            ]
          },
          "metadata": {
            "tags": []
          },
          "execution_count": 2
        }
      ]
    },
    {
      "cell_type": "code",
      "metadata": {
        "id": "Qo16Ko0Gchxk"
      },
      "source": [
        "class LstmTagger(Model):\n",
        "  def __init__(self,\n",
        "               word_embeddings: TextFieldEmbedder,\n",
        "               encoder: Seq2SeqEncoder,\n",
        "               vocab: Vocabulary) -> None:\n",
        "    super().__init__(vocab)\n",
        "    self.word_embeddings = word_embeddings\n",
        "    self.encoder = encoder\n",
        "    self.hidden2tag = torch.nn.Linear(in_features=encoder.get_output_dim(),\n",
        "                                      out_features=vocab.get_vocab_size('labels'))\n",
        "    self.accuracy = CategoricalAccuracy()\n",
        "\n",
        "  def forward(self,\n",
        "              tokens: Dict[str, torch.Tensor],\n",
        "              metadata,\n",
        "              tags: torch.Tensor = None) -> Dict[str, torch.Tensor]:\n",
        "    mask = get_text_field_mask(tokens)\n",
        "    embeddings = self.word_embeddings(tokens)\n",
        "    encoder_out = self.encoder(embeddings, mask)\n",
        "    tag_logits = self.hidden2tag(encoder_out)\n",
        "    output = {\"tag_logits\": tag_logits}\n",
        "    if tags is not None:\n",
        "      self.accuracy(tag_logits, tags, mask)\n",
        "      output[\"loss\"] = sequence_cross_entropy_with_logits(tag_logits, tags, mask)\n",
        "\n",
        "    return output\n",
        "\n",
        "  def get_metrics(self, reset: bool = False) -> Dict[str, float]:\n",
        "    return {\"accuracy\": self.accuracy.get_metric(reset)}"
      ],
      "execution_count": null,
      "outputs": []
    },
    {
      "cell_type": "markdown",
      "metadata": {
        "id": "mVdKvPftVVLt"
      },
      "source": [
        "## Import Data"
      ]
    },
    {
      "cell_type": "code",
      "metadata": {
        "id": "5sOVVZslKm3N",
        "colab": {
          "base_uri": "https://localhost:8080/"
        },
        "outputId": "4c8dde50-8c5f-4895-dfc4-d9862d9538be"
      },
      "source": [
        "reader = conll2003.Conll2003DatasetReader()\n",
        "train_dataset = reader.read(cached_path('http://www.ccs.neu.edu/home/dasmith/onto.train.ner.sample'))\n",
        "validation_dataset = reader.read(cached_path('http://www.ccs.neu.edu/home/dasmith/onto.development.ner.sample'))\n",
        "\n",
        "from itertools import chain\n",
        "vocab = Vocabulary.from_instances(chain(train_dataset, validation_dataset))"
      ],
      "execution_count": null,
      "outputs": [
        {
          "output_type": "stream",
          "text": [
            "562it [00:00, 21001.60it/s]\n",
            "23it [00:00, 14845.95it/s]\n",
            "585it [00:00, 62155.94it/s]\n"
          ],
          "name": "stderr"
        }
      ]
    },
    {
      "cell_type": "markdown",
      "metadata": {
        "id": "wpg2Udr-Vnwm"
      },
      "source": [
        "## Define and Train Model"
      ]
    },
    {
      "cell_type": "code",
      "metadata": {
        "id": "8kDQQBMywdKx",
        "colab": {
          "base_uri": "https://localhost:8080/"
        },
        "outputId": "8d3b8967-7780-4695-82f8-0f54aa561f63"
      },
      "source": [
        "EMBEDDING_DIM = 6\n",
        "HIDDEN_DIM = 6\n",
        "token_embedding = Embedding(num_embeddings=vocab.get_vocab_size('tokens'),\n",
        "                            embedding_dim=EMBEDDING_DIM)\n",
        "word_embeddings = BasicTextFieldEmbedder({\"tokens\": token_embedding})\n",
        "lstm = PytorchSeq2SeqWrapper(torch.nn.LSTM(EMBEDDING_DIM, HIDDEN_DIM, bidirectional=False, batch_first=True))\n",
        "model = LstmTagger(word_embeddings, lstm, vocab)\n",
        "if torch.cuda.is_available():\n",
        "    cuda_device = 0\n",
        "    model = model.cuda(cuda_device)\n",
        "else:\n",
        "    cuda_device = -1\n",
        "# optimizer = optim.AdamW(model.parameters(), lr=1e-4, eps=1e-8)\n",
        "optimizer = optim.SGD(model.parameters(), lr=0.1)\n",
        "iterator = BucketIterator(batch_size=2, sorting_keys=[(\"tokens\", \"num_tokens\")])\n",
        "iterator.index_with(vocab)\n",
        "trainer = Trainer(model=model,\n",
        "                  optimizer=optimizer,\n",
        "                  iterator=iterator,\n",
        "                  train_dataset=train_dataset,\n",
        "                  validation_dataset=validation_dataset,\n",
        "                  patience=10,\n",
        "                  num_epochs=100,\n",
        "                  cuda_device=cuda_device)\n",
        "trainer.train()"
      ],
      "execution_count": null,
      "outputs": [
        {
          "output_type": "stream",
          "text": [
            "accuracy: 0.8133, loss: 1.0350 ||: 100%|██████████| 281/281 [00:01<00:00, 274.34it/s]\n",
            "accuracy: 0.7878, loss: 1.2288 ||: 100%|██████████| 12/12 [00:00<00:00, 450.98it/s]\n",
            "accuracy: 0.8442, loss: 0.7435 ||: 100%|██████████| 281/281 [00:01<00:00, 269.60it/s]\n",
            "accuracy: 0.7878, loss: 1.2148 ||: 100%|██████████| 12/12 [00:00<00:00, 478.26it/s]\n",
            "accuracy: 0.8442, loss: 0.7255 ||: 100%|██████████| 281/281 [00:01<00:00, 267.02it/s]\n",
            "accuracy: 0.7878, loss: 1.1922 ||: 100%|██████████| 12/12 [00:00<00:00, 459.61it/s]\n",
            "accuracy: 0.8442, loss: 0.7141 ||: 100%|██████████| 281/281 [00:01<00:00, 271.41it/s]\n",
            "accuracy: 0.7878, loss: 1.1819 ||: 100%|██████████| 12/12 [00:00<00:00, 438.83it/s]\n",
            "accuracy: 0.8442, loss: 0.7069 ||: 100%|██████████| 281/281 [00:01<00:00, 270.09it/s]\n",
            "accuracy: 0.7878, loss: 1.1835 ||: 100%|██████████| 12/12 [00:00<00:00, 466.48it/s]\n",
            "accuracy: 0.8442, loss: 0.7017 ||: 100%|██████████| 281/281 [00:01<00:00, 266.53it/s]\n",
            "accuracy: 0.7878, loss: 1.1856 ||: 100%|██████████| 12/12 [00:00<00:00, 389.85it/s]\n",
            "accuracy: 0.8442, loss: 0.6970 ||: 100%|██████████| 281/281 [00:01<00:00, 268.24it/s]\n",
            "accuracy: 0.7878, loss: 1.1878 ||: 100%|██████████| 12/12 [00:00<00:00, 464.28it/s]\n",
            "accuracy: 0.8442, loss: 0.6927 ||: 100%|██████████| 281/281 [00:01<00:00, 264.21it/s]\n",
            "accuracy: 0.7878, loss: 1.1597 ||: 100%|██████████| 12/12 [00:00<00:00, 459.56it/s]\n",
            "accuracy: 0.8442, loss: 0.6874 ||: 100%|██████████| 281/281 [00:01<00:00, 269.14it/s]\n",
            "accuracy: 0.7878, loss: 1.1688 ||: 100%|██████████| 12/12 [00:00<00:00, 434.42it/s]\n",
            "accuracy: 0.8442, loss: 0.6805 ||: 100%|██████████| 281/281 [00:01<00:00, 262.60it/s]\n",
            "accuracy: 0.7878, loss: 1.1568 ||: 100%|██████████| 12/12 [00:00<00:00, 468.96it/s]\n",
            "accuracy: 0.8442, loss: 0.6705 ||: 100%|██████████| 281/281 [00:01<00:00, 265.82it/s]\n",
            "accuracy: 0.7878, loss: 1.1327 ||: 100%|██████████| 12/12 [00:00<00:00, 469.85it/s]\n",
            "accuracy: 0.8442, loss: 0.6549 ||: 100%|██████████| 281/281 [00:01<00:00, 268.83it/s]\n",
            "accuracy: 0.7878, loss: 1.1228 ||: 100%|██████████| 12/12 [00:00<00:00, 480.47it/s]\n",
            "accuracy: 0.8442, loss: 0.6256 ||: 100%|██████████| 281/281 [00:01<00:00, 265.69it/s]\n",
            "accuracy: 0.7878, loss: 1.0579 ||: 100%|██████████| 12/12 [00:00<00:00, 433.24it/s]\n",
            "accuracy: 0.8442, loss: 0.5881 ||: 100%|██████████| 281/281 [00:01<00:00, 269.06it/s]\n",
            "accuracy: 0.7878, loss: 0.9978 ||: 100%|██████████| 12/12 [00:00<00:00, 507.45it/s]\n",
            "accuracy: 0.8442, loss: 0.5448 ||: 100%|██████████| 281/281 [00:01<00:00, 270.03it/s]\n",
            "accuracy: 0.7878, loss: 0.9043 ||: 100%|██████████| 12/12 [00:00<00:00, 396.53it/s]\n",
            "accuracy: 0.8444, loss: 0.4997 ||: 100%|██████████| 281/281 [00:01<00:00, 268.99it/s]\n",
            "accuracy: 0.7878, loss: 0.8434 ||: 100%|██████████| 12/12 [00:00<00:00, 478.53it/s]\n",
            "accuracy: 0.8499, loss: 0.4664 ||: 100%|██████████| 281/281 [00:01<00:00, 263.28it/s]\n",
            "accuracy: 0.7878, loss: 0.8564 ||: 100%|██████████| 12/12 [00:00<00:00, 474.79it/s]\n",
            "accuracy: 0.8581, loss: 0.4401 ||: 100%|██████████| 281/281 [00:01<00:00, 267.29it/s]\n",
            "accuracy: 0.7878, loss: 0.8289 ||: 100%|██████████| 12/12 [00:00<00:00, 465.08it/s]\n",
            "accuracy: 0.8612, loss: 0.4224 ||: 100%|██████████| 281/281 [00:01<00:00, 271.91it/s]\n",
            "accuracy: 0.7878, loss: 0.7866 ||: 100%|██████████| 12/12 [00:00<00:00, 475.16it/s]\n",
            "accuracy: 0.8621, loss: 0.4126 ||: 100%|██████████| 281/281 [00:01<00:00, 268.73it/s]\n",
            "accuracy: 0.7939, loss: 0.7576 ||: 100%|██████████| 12/12 [00:00<00:00, 495.76it/s]\n",
            "accuracy: 0.8628, loss: 0.4043 ||: 100%|██████████| 281/281 [00:01<00:00, 266.55it/s]\n",
            "accuracy: 0.7898, loss: 0.7526 ||: 100%|██████████| 12/12 [00:00<00:00, 480.35it/s]\n",
            "accuracy: 0.8630, loss: 0.3969 ||: 100%|██████████| 281/281 [00:01<00:00, 271.39it/s]\n",
            "accuracy: 0.7939, loss: 0.7475 ||: 100%|██████████| 12/12 [00:00<00:00, 483.83it/s]\n",
            "accuracy: 0.8628, loss: 0.3934 ||: 100%|██████████| 281/281 [00:01<00:00, 274.51it/s]\n",
            "accuracy: 0.7939, loss: 0.7800 ||: 100%|██████████| 12/12 [00:00<00:00, 442.21it/s]\n",
            "accuracy: 0.8639, loss: 0.3928 ||: 100%|██████████| 281/281 [00:01<00:00, 266.99it/s]\n",
            "accuracy: 0.7918, loss: 0.7237 ||: 100%|██████████| 12/12 [00:00<00:00, 460.79it/s]\n",
            "accuracy: 0.8639, loss: 0.3872 ||: 100%|██████████| 281/281 [00:01<00:00, 269.74it/s]\n",
            "accuracy: 0.7939, loss: 0.7200 ||: 100%|██████████| 12/12 [00:00<00:00, 452.47it/s]\n",
            "accuracy: 0.8643, loss: 0.3862 ||: 100%|██████████| 281/281 [00:01<00:00, 265.30it/s]\n",
            "accuracy: 0.7939, loss: 0.7132 ||: 100%|██████████| 12/12 [00:00<00:00, 456.13it/s]\n",
            "accuracy: 0.8650, loss: 0.3844 ||: 100%|██████████| 281/281 [00:01<00:00, 267.78it/s]\n",
            "accuracy: 0.7939, loss: 0.7380 ||: 100%|██████████| 12/12 [00:00<00:00, 487.71it/s]\n",
            "accuracy: 0.8646, loss: 0.3808 ||: 100%|██████████| 281/281 [00:01<00:00, 271.55it/s]\n",
            "accuracy: 0.7918, loss: 0.7057 ||: 100%|██████████| 12/12 [00:00<00:00, 486.11it/s]\n",
            "accuracy: 0.8656, loss: 0.3768 ||: 100%|██████████| 281/281 [00:01<00:00, 271.64it/s]\n",
            "accuracy: 0.7939, loss: 0.7130 ||: 100%|██████████| 12/12 [00:00<00:00, 472.85it/s]\n",
            "accuracy: 0.8656, loss: 0.3789 ||: 100%|██████████| 281/281 [00:01<00:00, 270.37it/s]\n",
            "accuracy: 0.8000, loss: 0.7147 ||: 100%|██████████| 12/12 [00:00<00:00, 439.52it/s]\n",
            "accuracy: 0.8698, loss: 0.3762 ||: 100%|██████████| 281/281 [00:01<00:00, 266.87it/s]\n",
            "accuracy: 0.8041, loss: 0.7002 ||: 100%|██████████| 12/12 [00:00<00:00, 479.26it/s]\n",
            "accuracy: 0.8716, loss: 0.3692 ||: 100%|██████████| 281/281 [00:01<00:00, 271.25it/s]\n",
            "accuracy: 0.8082, loss: 0.6934 ||: 100%|██████████| 12/12 [00:00<00:00, 461.67it/s]\n",
            "accuracy: 0.8741, loss: 0.3691 ||: 100%|██████████| 281/281 [00:01<00:00, 269.77it/s]\n",
            "accuracy: 0.8143, loss: 0.6819 ||: 100%|██████████| 12/12 [00:00<00:00, 478.87it/s]\n",
            "accuracy: 0.8734, loss: 0.3658 ||: 100%|██████████| 281/281 [00:01<00:00, 268.04it/s]\n",
            "accuracy: 0.8143, loss: 0.6873 ||: 100%|██████████| 12/12 [00:00<00:00, 489.98it/s]\n",
            "accuracy: 0.8758, loss: 0.3590 ||: 100%|██████████| 281/281 [00:01<00:00, 270.32it/s]\n",
            "accuracy: 0.8184, loss: 0.6695 ||: 100%|██████████| 12/12 [00:00<00:00, 445.88it/s]\n",
            "accuracy: 0.8749, loss: 0.3582 ||: 100%|██████████| 281/281 [00:01<00:00, 271.01it/s]\n",
            "accuracy: 0.8184, loss: 0.6730 ||: 100%|██████████| 12/12 [00:00<00:00, 457.29it/s]\n",
            "accuracy: 0.8758, loss: 0.3561 ||: 100%|██████████| 281/281 [00:01<00:00, 271.11it/s]\n",
            "accuracy: 0.8204, loss: 0.6857 ||: 100%|██████████| 12/12 [00:00<00:00, 503.89it/s]\n",
            "accuracy: 0.8763, loss: 0.3535 ||: 100%|██████████| 281/281 [00:01<00:00, 270.27it/s]\n",
            "accuracy: 0.8204, loss: 0.6909 ||: 100%|██████████| 12/12 [00:00<00:00, 457.19it/s]\n",
            "accuracy: 0.8777, loss: 0.3487 ||: 100%|██████████| 281/281 [00:01<00:00, 263.68it/s]\n",
            "accuracy: 0.8184, loss: 0.6981 ||: 100%|██████████| 12/12 [00:00<00:00, 438.82it/s]\n",
            "accuracy: 0.8781, loss: 0.3457 ||: 100%|██████████| 281/281 [00:01<00:00, 267.21it/s]\n",
            "accuracy: 0.8204, loss: 0.6638 ||: 100%|██████████| 12/12 [00:00<00:00, 473.06it/s]\n",
            "accuracy: 0.8793, loss: 0.3458 ||: 100%|██████████| 281/281 [00:01<00:00, 269.19it/s]\n",
            "accuracy: 0.8265, loss: 0.6428 ||: 100%|██████████| 12/12 [00:00<00:00, 459.63it/s]\n",
            "accuracy: 0.8791, loss: 0.3398 ||: 100%|██████████| 281/281 [00:01<00:00, 275.09it/s]\n",
            "accuracy: 0.8204, loss: 0.6614 ||: 100%|██████████| 12/12 [00:00<00:00, 457.48it/s]\n",
            "accuracy: 0.8790, loss: 0.3380 ||: 100%|██████████| 281/281 [00:01<00:00, 268.55it/s]\n",
            "accuracy: 0.8245, loss: 0.6409 ||: 100%|██████████| 12/12 [00:00<00:00, 444.08it/s]\n",
            "accuracy: 0.8808, loss: 0.3325 ||: 100%|██████████| 281/281 [00:01<00:00, 266.95it/s]\n",
            "accuracy: 0.8082, loss: 0.6796 ||: 100%|██████████| 12/12 [00:00<00:00, 456.73it/s]\n",
            "accuracy: 0.8794, loss: 0.3373 ||: 100%|██████████| 281/281 [00:01<00:00, 271.34it/s]\n",
            "accuracy: 0.8245, loss: 0.6308 ||: 100%|██████████| 12/12 [00:00<00:00, 445.00it/s]\n",
            "accuracy: 0.8819, loss: 0.3239 ||: 100%|██████████| 281/281 [00:01<00:00, 272.79it/s]\n",
            "accuracy: 0.8265, loss: 0.6188 ||: 100%|██████████| 12/12 [00:00<00:00, 428.76it/s]\n",
            "accuracy: 0.8819, loss: 0.3217 ||: 100%|██████████| 281/281 [00:01<00:00, 272.63it/s]\n",
            "accuracy: 0.7980, loss: 0.7208 ||: 100%|██████████| 12/12 [00:00<00:00, 466.65it/s]\n",
            "accuracy: 0.8824, loss: 0.3237 ||: 100%|██████████| 281/281 [00:01<00:00, 270.35it/s]\n",
            "accuracy: 0.8245, loss: 0.6126 ||: 100%|██████████| 12/12 [00:00<00:00, 458.38it/s]\n",
            "accuracy: 0.8831, loss: 0.3165 ||: 100%|██████████| 281/281 [00:01<00:00, 275.41it/s]\n",
            "accuracy: 0.8306, loss: 0.6296 ||: 100%|██████████| 12/12 [00:00<00:00, 510.99it/s]\n",
            "accuracy: 0.8852, loss: 0.3161 ||: 100%|██████████| 281/281 [00:01<00:00, 267.46it/s]\n",
            "accuracy: 0.8245, loss: 0.6144 ||: 100%|██████████| 12/12 [00:00<00:00, 473.78it/s]\n",
            "accuracy: 0.8827, loss: 0.3138 ||: 100%|██████████| 281/281 [00:01<00:00, 270.43it/s]\n",
            "accuracy: 0.8347, loss: 0.5934 ||: 100%|██████████| 12/12 [00:00<00:00, 497.64it/s]\n",
            "accuracy: 0.8837, loss: 0.3110 ||: 100%|██████████| 281/281 [00:01<00:00, 270.43it/s]\n",
            "accuracy: 0.8388, loss: 0.6097 ||: 100%|██████████| 12/12 [00:00<00:00, 426.84it/s]\n",
            "accuracy: 0.8848, loss: 0.3043 ||: 100%|██████████| 281/281 [00:01<00:00, 267.57it/s]\n",
            "accuracy: 0.8306, loss: 0.6071 ||: 100%|██████████| 12/12 [00:00<00:00, 475.06it/s]\n",
            "accuracy: 0.8866, loss: 0.3029 ||: 100%|██████████| 281/281 [00:01<00:00, 267.38it/s]\n",
            "accuracy: 0.8327, loss: 0.5905 ||: 100%|██████████| 12/12 [00:00<00:00, 449.96it/s]\n",
            "accuracy: 0.8871, loss: 0.2982 ||: 100%|██████████| 281/281 [00:01<00:00, 272.05it/s]\n",
            "accuracy: 0.8347, loss: 0.5901 ||: 100%|██████████| 12/12 [00:00<00:00, 524.79it/s]\n",
            "accuracy: 0.8874, loss: 0.2929 ||: 100%|██████████| 281/281 [00:01<00:00, 267.79it/s]\n",
            "accuracy: 0.8265, loss: 0.6232 ||: 100%|██████████| 12/12 [00:00<00:00, 435.35it/s]\n",
            "accuracy: 0.8877, loss: 0.2975 ||: 100%|██████████| 281/281 [00:01<00:00, 268.91it/s]\n",
            "accuracy: 0.8388, loss: 0.6056 ||: 100%|██████████| 12/12 [00:00<00:00, 453.01it/s]\n",
            "accuracy: 0.8913, loss: 0.2902 ||: 100%|██████████| 281/281 [00:01<00:00, 274.84it/s]\n",
            "accuracy: 0.8429, loss: 0.5718 ||: 100%|██████████| 12/12 [00:00<00:00, 481.74it/s]\n",
            "accuracy: 0.8943, loss: 0.2845 ||: 100%|██████████| 281/281 [00:01<00:00, 268.53it/s]\n",
            "accuracy: 0.8469, loss: 0.5709 ||: 100%|██████████| 12/12 [00:00<00:00, 468.34it/s]\n",
            "accuracy: 0.8952, loss: 0.2840 ||: 100%|██████████| 281/281 [00:01<00:00, 265.30it/s]\n",
            "accuracy: 0.8367, loss: 0.6046 ||: 100%|██████████| 12/12 [00:00<00:00, 470.96it/s]\n",
            "accuracy: 0.8976, loss: 0.2811 ||: 100%|██████████| 281/281 [00:01<00:00, 267.75it/s]\n",
            "accuracy: 0.8490, loss: 0.5448 ||: 100%|██████████| 12/12 [00:00<00:00, 460.42it/s]\n",
            "accuracy: 0.8980, loss: 0.2857 ||: 100%|██████████| 281/281 [00:01<00:00, 266.55it/s]\n",
            "accuracy: 0.8469, loss: 0.5548 ||: 100%|██████████| 12/12 [00:00<00:00, 469.87it/s]\n",
            "accuracy: 0.8981, loss: 0.2777 ||: 100%|██████████| 281/281 [00:01<00:00, 276.03it/s]\n",
            "accuracy: 0.8490, loss: 0.5402 ||: 100%|██████████| 12/12 [00:00<00:00, 480.62it/s]\n",
            "accuracy: 0.9003, loss: 0.2709 ||: 100%|██████████| 281/281 [00:01<00:00, 270.29it/s]\n",
            "accuracy: 0.8490, loss: 0.5439 ||: 100%|██████████| 12/12 [00:00<00:00, 474.60it/s]\n",
            "accuracy: 0.9001, loss: 0.2691 ||: 100%|██████████| 281/281 [00:01<00:00, 270.23it/s]\n",
            "accuracy: 0.8531, loss: 0.5310 ||: 100%|██████████| 12/12 [00:00<00:00, 452.00it/s]\n",
            "accuracy: 0.9017, loss: 0.2665 ||: 100%|██████████| 281/281 [00:01<00:00, 264.59it/s]\n",
            "accuracy: 0.8531, loss: 0.5199 ||: 100%|██████████| 12/12 [00:00<00:00, 467.82it/s]\n",
            "accuracy: 0.9027, loss: 0.2630 ||: 100%|██████████| 281/281 [00:01<00:00, 264.46it/s]\n",
            "accuracy: 0.8531, loss: 0.5111 ||: 100%|██████████| 12/12 [00:00<00:00, 418.65it/s]\n",
            "accuracy: 0.9033, loss: 0.2613 ||: 100%|██████████| 281/281 [00:01<00:00, 262.60it/s]\n",
            "accuracy: 0.8449, loss: 0.5095 ||: 100%|██████████| 12/12 [00:00<00:00, 477.46it/s]\n",
            "accuracy: 0.9039, loss: 0.2564 ||: 100%|██████████| 281/281 [00:01<00:00, 267.94it/s]\n",
            "accuracy: 0.8551, loss: 0.5116 ||: 100%|██████████| 12/12 [00:00<00:00, 447.80it/s]\n",
            "accuracy: 0.9054, loss: 0.2542 ||: 100%|██████████| 281/281 [00:01<00:00, 267.13it/s]\n",
            "accuracy: 0.8531, loss: 0.4974 ||: 100%|██████████| 12/12 [00:00<00:00, 360.55it/s]\n",
            "accuracy: 0.9047, loss: 0.2510 ||: 100%|██████████| 281/281 [00:01<00:00, 271.91it/s]\n",
            "accuracy: 0.8551, loss: 0.5074 ||: 100%|██████████| 12/12 [00:00<00:00, 492.04it/s]\n",
            "accuracy: 0.9068, loss: 0.2471 ||: 100%|██████████| 281/281 [00:01<00:00, 269.68it/s]\n",
            "accuracy: 0.8429, loss: 0.5177 ||: 100%|██████████| 12/12 [00:00<00:00, 528.56it/s]\n",
            "accuracy: 0.9055, loss: 0.2454 ||: 100%|██████████| 281/281 [00:01<00:00, 267.91it/s]\n",
            "accuracy: 0.8612, loss: 0.4800 ||: 100%|██████████| 12/12 [00:00<00:00, 433.14it/s]\n",
            "accuracy: 0.9050, loss: 0.2488 ||: 100%|██████████| 281/281 [00:01<00:00, 262.27it/s]\n",
            "accuracy: 0.8551, loss: 0.5150 ||: 100%|██████████| 12/12 [00:00<00:00, 427.33it/s]\n",
            "accuracy: 0.9084, loss: 0.2437 ||: 100%|██████████| 281/281 [00:01<00:00, 266.05it/s]\n",
            "accuracy: 0.8653, loss: 0.4731 ||: 100%|██████████| 12/12 [00:00<00:00, 473.20it/s]\n",
            "accuracy: 0.9093, loss: 0.2408 ||: 100%|██████████| 281/281 [00:01<00:00, 265.22it/s]\n",
            "accuracy: 0.8633, loss: 0.4744 ||: 100%|██████████| 12/12 [00:00<00:00, 472.97it/s]\n",
            "accuracy: 0.9100, loss: 0.2376 ||: 100%|██████████| 281/281 [00:01<00:00, 263.40it/s]\n",
            "accuracy: 0.8571, loss: 0.4800 ||: 100%|██████████| 12/12 [00:00<00:00, 444.55it/s]\n",
            "accuracy: 0.9091, loss: 0.2327 ||: 100%|██████████| 281/281 [00:01<00:00, 269.25it/s]\n",
            "accuracy: 0.8612, loss: 0.4683 ||: 100%|██████████| 12/12 [00:00<00:00, 438.19it/s]\n",
            "accuracy: 0.9107, loss: 0.2295 ||: 100%|██████████| 281/281 [00:01<00:00, 264.89it/s]\n",
            "accuracy: 0.8633, loss: 0.4677 ||: 100%|██████████| 12/12 [00:00<00:00, 510.37it/s]\n",
            "accuracy: 0.9137, loss: 0.2266 ||: 100%|██████████| 281/281 [00:01<00:00, 265.49it/s]\n",
            "accuracy: 0.8612, loss: 0.4516 ||: 100%|██████████| 12/12 [00:00<00:00, 455.39it/s]\n",
            "accuracy: 0.9127, loss: 0.2258 ||: 100%|██████████| 281/281 [00:01<00:00, 262.80it/s]\n",
            "accuracy: 0.8653, loss: 0.4608 ||: 100%|██████████| 12/12 [00:00<00:00, 462.68it/s]\n",
            "accuracy: 0.9148, loss: 0.2248 ||: 100%|██████████| 281/281 [00:01<00:00, 266.57it/s]\n",
            "accuracy: 0.8531, loss: 0.4706 ||: 100%|██████████| 12/12 [00:00<00:00, 515.67it/s]\n",
            "accuracy: 0.9158, loss: 0.2184 ||: 100%|██████████| 281/281 [00:01<00:00, 268.03it/s]\n",
            "accuracy: 0.8612, loss: 0.4461 ||: 100%|██████████| 12/12 [00:00<00:00, 479.92it/s]\n",
            "accuracy: 0.9164, loss: 0.2160 ||: 100%|██████████| 281/281 [00:01<00:00, 266.72it/s]\n",
            "accuracy: 0.8673, loss: 0.4487 ||: 100%|██████████| 12/12 [00:00<00:00, 469.49it/s]\n",
            "accuracy: 0.9172, loss: 0.2158 ||: 100%|██████████| 281/281 [00:01<00:00, 268.22it/s]\n",
            "accuracy: 0.8490, loss: 0.5038 ||: 100%|██████████| 12/12 [00:00<00:00, 442.24it/s]\n",
            "accuracy: 0.9185, loss: 0.2133 ||: 100%|██████████| 281/281 [00:01<00:00, 263.74it/s]\n",
            "accuracy: 0.8571, loss: 0.4400 ||: 100%|██████████| 12/12 [00:00<00:00, 437.34it/s]\n",
            "accuracy: 0.9193, loss: 0.2085 ||: 100%|██████████| 281/281 [00:01<00:00, 272.42it/s]\n",
            "accuracy: 0.8694, loss: 0.4278 ||: 100%|██████████| 12/12 [00:00<00:00, 481.52it/s]\n",
            "accuracy: 0.9215, loss: 0.2042 ||: 100%|██████████| 281/281 [00:01<00:00, 266.96it/s]\n",
            "accuracy: 0.8673, loss: 0.4250 ||: 100%|██████████| 12/12 [00:00<00:00, 465.50it/s]\n",
            "accuracy: 0.9220, loss: 0.2023 ||: 100%|██████████| 281/281 [00:01<00:00, 266.88it/s]\n",
            "accuracy: 0.8694, loss: 0.4250 ||: 100%|██████████| 12/12 [00:00<00:00, 454.82it/s]\n",
            "accuracy: 0.9237, loss: 0.1998 ||: 100%|██████████| 281/281 [00:01<00:00, 269.70it/s]\n",
            "accuracy: 0.8694, loss: 0.4138 ||: 100%|██████████| 12/12 [00:00<00:00, 455.41it/s]\n",
            "accuracy: 0.9224, loss: 0.1995 ||: 100%|██████████| 281/281 [00:01<00:00, 267.50it/s]\n",
            "accuracy: 0.8735, loss: 0.4205 ||: 100%|██████████| 12/12 [00:00<00:00, 520.53it/s]\n",
            "accuracy: 0.9242, loss: 0.1976 ||: 100%|██████████| 281/281 [00:01<00:00, 266.84it/s]\n",
            "accuracy: 0.8714, loss: 0.4087 ||: 100%|██████████| 12/12 [00:00<00:00, 474.80it/s]\n",
            "accuracy: 0.9262, loss: 0.1936 ||: 100%|██████████| 281/281 [00:01<00:00, 267.35it/s]\n",
            "accuracy: 0.8735, loss: 0.4172 ||: 100%|██████████| 12/12 [00:00<00:00, 413.12it/s]\n",
            "accuracy: 0.9266, loss: 0.1913 ||: 100%|██████████| 281/281 [00:01<00:00, 268.86it/s]\n",
            "accuracy: 0.8735, loss: 0.4031 ||: 100%|██████████| 12/12 [00:00<00:00, 472.89it/s]\n",
            "accuracy: 0.9277, loss: 0.1914 ||: 100%|██████████| 281/281 [00:01<00:00, 267.33it/s]\n",
            "accuracy: 0.8673, loss: 0.4274 ||: 100%|██████████| 12/12 [00:00<00:00, 517.05it/s]\n",
            "accuracy: 0.9274, loss: 0.1922 ||: 100%|██████████| 281/281 [00:01<00:00, 264.76it/s]\n",
            "accuracy: 0.8776, loss: 0.3965 ||: 100%|██████████| 12/12 [00:00<00:00, 374.17it/s]\n",
            "accuracy: 0.9281, loss: 0.1860 ||: 100%|██████████| 281/281 [00:01<00:00, 261.18it/s]\n",
            "accuracy: 0.8735, loss: 0.3977 ||: 100%|██████████| 12/12 [00:00<00:00, 430.63it/s]\n",
            "accuracy: 0.9304, loss: 0.1831 ||: 100%|██████████| 281/281 [00:01<00:00, 268.38it/s]\n",
            "accuracy: 0.8776, loss: 0.3857 ||: 100%|██████████| 12/12 [00:00<00:00, 471.38it/s]\n",
            "accuracy: 0.9317, loss: 0.1792 ||: 100%|██████████| 281/281 [00:01<00:00, 256.96it/s]\n",
            "accuracy: 0.8714, loss: 0.3905 ||: 100%|██████████| 12/12 [00:00<00:00, 454.15it/s]\n",
            "accuracy: 0.9326, loss: 0.1772 ||: 100%|██████████| 281/281 [00:01<00:00, 263.22it/s]\n",
            "accuracy: 0.8857, loss: 0.3695 ||: 100%|██████████| 12/12 [00:00<00:00, 452.10it/s]\n"
          ],
          "name": "stderr"
        },
        {
          "output_type": "execute_result",
          "data": {
            "text/plain": [
              "{'best_epoch': 99,\n",
              " 'best_validation_accuracy': 0.8857142857142857,\n",
              " 'best_validation_loss': 0.36948804757169756,\n",
              " 'epoch': 99,\n",
              " 'peak_cpu_memory_MB': 3231.968,\n",
              " 'peak_gpu_0_memory_MB': 1060,\n",
              " 'training_accuracy': 0.932634254845885,\n",
              " 'training_cpu_memory_MB': 3231.968,\n",
              " 'training_duration': '0:01:54.708402',\n",
              " 'training_epochs': 99,\n",
              " 'training_gpu_0_memory_MB': 1060,\n",
              " 'training_loss': 0.17723424550791328,\n",
              " 'training_start_epoch': 0,\n",
              " 'validation_accuracy': 0.8857142857142857,\n",
              " 'validation_loss': 0.36948804757169756}"
            ]
          },
          "metadata": {
            "tags": []
          },
          "execution_count": 49
        }
      ]
    },
    {
      "cell_type": "markdown",
      "metadata": {
        "id": "mwN6ctqVV0tf"
      },
      "source": [
        "## Evaluation"
      ]
    },
    {
      "cell_type": "markdown",
      "metadata": {
        "id": "qkDs_UdIeuFz"
      },
      "source": [
        "The simple code below loops over the validation set, applying the model to each exmaple and collecting out the input token, gold-standard output, and model output. You can see from these methods how to access ground truth and model outputs for evaluation."
      ]
    },
    {
      "cell_type": "code",
      "metadata": {
        "id": "S0bE4fmLik08",
        "colab": {
          "base_uri": "https://localhost:8080/"
        },
        "outputId": "492032cf-3ae8-4928-fe30-beec3b181fc1"
      },
      "source": [
        "def tag_sentence(s):\n",
        "  tag_ids = np.argmax(model.forward_on_instance(s)['tag_logits'], axis=-1)\n",
        "  fields = zip(s['tokens'], s['tags'], [model.vocab.get_token_from_index(i, 'labels') for i in tag_ids])\n",
        "  return list(fields)\n",
        "\n",
        "baseline_output = [tag_sentence(i) for i in validation_dataset]\n",
        "## Show the first example\n",
        "baseline_output[0]"
      ],
      "execution_count": null,
      "outputs": [
        {
          "output_type": "execute_result",
          "data": {
            "text/plain": [
              "[(With, 'O', 'O'),\n",
              " (a, 'O', 'O'),\n",
              " (wave, 'O', 'O'),\n",
              " (of, 'O', 'O'),\n",
              " (his, 'O', 'O'),\n",
              " (hand, 'O', 'O'),\n",
              " (,, 'O', 'O'),\n",
              " (Peng, 'B-PERSON', 'B-PERSON'),\n",
              " (Dehuai, 'I-PERSON', 'I-PERSON'),\n",
              " (said, 'O', 'O'),\n",
              " (that, 'O', 'O'),\n",
              " (despite, 'O', 'O'),\n",
              " (being, 'O', 'O'),\n",
              " (over, 'O', 'O'),\n",
              " (100, 'B-CARDINAL', 'B-CARDINAL'),\n",
              " (regiments, 'O', 'O'),\n",
              " (,, 'O', 'O'),\n",
              " (let, 'O', 'O'),\n",
              " ('s, 'O', 'O'),\n",
              " (call, 'O', 'O'),\n",
              " (this, 'O', 'O'),\n",
              " (campaign, 'O', 'O'),\n",
              " (the, 'B-EVENT', 'O'),\n",
              " (Hundred, 'I-EVENT', 'I-EVENT'),\n",
              " (Regiments, 'I-EVENT', 'I-EVENT'),\n",
              " (Offensive, 'I-EVENT', 'I-EVENT'),\n",
              " (., 'O', 'O')]"
            ]
          },
          "metadata": {
            "tags": []
          },
          "execution_count": 50
        }
      ]
    },
    {
      "cell_type": "markdown",
      "metadata": {
        "id": "BpYMx7RVfCyT"
      },
      "source": [
        "Now, you can implement two evaluation functions: `violations` and `span_stats`."
      ]
    },
    {
      "cell_type": "code",
      "metadata": {
        "colab": {
          "base_uri": "https://localhost:8080/"
        },
        "id": "vbSkv77DBakv",
        "outputId": "61c78b65-2744-4f88-b569-a5be02a4925b"
      },
      "source": [
        "# TODO: count the number of NER label violations,\n",
        "# such as O followed by I-TYPE or B-TYPE followed by\n",
        "# I-OTHER_TYPE\n",
        "# Take tagger output as input\n",
        "def violations(tagged):\n",
        "    count = 0\n",
        "    for i in tagged:\n",
        "        prev_tag = ''\n",
        "        for j in i:\n",
        "            tag = j[2]\n",
        "            if tag != 'O':\n",
        "                if tag.startswith('I-'):\n",
        "                    if prev_tag == '':\n",
        "                        count += 1\n",
        "                    else:\n",
        "                        if tag[2:] != prev_tag:\n",
        "                            count += 1\n",
        "                    prev_tag = tag[2:]\n",
        "                elif tag.startswith('B-'):\n",
        "                    prev_tag = tag[2:]\n",
        "            else:\n",
        "                prev_tag = ''           \n",
        "            \n",
        "    return count\n",
        "\n",
        "# TODO: return the span-level precision, recall, and F1\n",
        "# Only count valid spans that start with a B tag,\n",
        "# followed by zero or more I tags of the same type.\n",
        "# This is harsher than the token-level metric that the\n",
        "# LSTM was trained to optimize, but it is the standard way\n",
        "# of evaluating NER systems.\n",
        "# Take tagger output as input\n",
        "def span_stats(tagged):      \n",
        "    idx_sen = 0\n",
        "    span_mdl = []\n",
        "    span_gld = []\n",
        "    for t in tagged:\n",
        "        idx_sen += 1\n",
        "        idx_wrd = 0\n",
        "        pretag_gld, pretag_mdl = '',''\n",
        "        strt_gld, end_gld = 0,0\n",
        "        strt_mdl, end_mdl = 0,0\n",
        "        for w in t:\n",
        "            idx_wrd += 1\n",
        "            tag_gld = w[1]\n",
        "            if tag_gld != 'O':\n",
        "                if tag_gld.startswith(\"B-\"):\n",
        "                    end_gld = idx_wrd - 1\n",
        "                    if pretag_gld != '':\n",
        "                        span_gld.append((pretag_gld, strt_gld, end_gld, idx_sen))\n",
        "                    strt_gld = idx_wrd\n",
        "                    pretag_gld = tag_gld[2:]\n",
        "            else: \n",
        "                end_gld = idx_wrd - 1\n",
        "                if pretag_gld != '':\n",
        "                    span_gld.append((pretag_gld, strt_gld, end_gld, idx_sen))\n",
        "                pretag_gold = ''\n",
        "                                         \n",
        "            tag_mdl = w[2]\n",
        "                                    \n",
        "            if tag_mdl != 'O':\n",
        "                if tag_mdl.startswith(\"B-\"):\n",
        "                    end_mdl = idx_wrd - 1\n",
        "                    if pretag_mdl != '':\n",
        "                        span_mdl.append((pretag_mdl, strt_mdl, end_mdl, idx_sen))\n",
        "                    strt_mdl = idx_wrd\n",
        "                    pretag_mdl = tag_mdl[2:]\n",
        "                elif tag_mdl.startswith(\"I-\"):\n",
        "                    if pretag_mdl != tag_mdl[2:]:\n",
        "                        pretag_mdl = ''\n",
        "                        \n",
        "            else:\n",
        "                end_mdl = idx_wrd - 1\n",
        "                if pretag_mdl != '':\n",
        "                    span_mdl.append((pretag_mdl, strt_mdl, end_mdl, idx_sen))\n",
        "                pretag_mdl = ''\n",
        "        \n",
        "        if pretag_gld != '':\n",
        "            end_gld = idx_wrd - 1\n",
        "            span_gld.append((pretag_gld, strt_gld, end_gld, idx_sen))\n",
        "            \n",
        "        if pretag_mdl != '':\n",
        "            end_mdl = idx_wrd - 1\n",
        "            span_mdl.append((pretag_mdl, strt_mdl, end_mdl, idx_sen))\n",
        "       \n",
        "    span_match = 0 \n",
        "    for p in span_mdl:\n",
        "        if p in span_gld:\n",
        "            span_match += 1\n",
        "\n",
        "    \n",
        "    precision = span_match/ len(span_mdl)\n",
        "    recall = span_match / len(span_gld)   \n",
        "    f1 = 2*(precision * recall)/ (precision+recall)\n",
        "\n",
        "    return {'precision': precision,\n",
        "          'recall': recall,\n",
        "          'f1': f1}\n",
        "## You can check how many violations are made by the model output in predictor.\n",
        "violations(baseline_output)"
      ],
      "execution_count": null,
      "outputs": [
        {
          "output_type": "execute_result",
          "data": {
            "text/plain": [
              "32"
            ]
          },
          "metadata": {
            "tags": []
          },
          "execution_count": 51
        }
      ]
    },
    {
      "cell_type": "code",
      "metadata": {
        "colab": {
          "base_uri": "https://localhost:8080/"
        },
        "id": "oLQea_wV9sHj",
        "outputId": "f6b41c20-1aa3-4f50-81fa-16aaccf5357c"
      },
      "source": [
        "span_stats(baseline_output)"
      ],
      "execution_count": null,
      "outputs": [
        {
          "output_type": "execute_result",
          "data": {
            "text/plain": [
              "{'f1': 0.08304498269896193,\n",
              " 'precision': 0.5714285714285714,\n",
              " 'recall': 0.04477611940298507}"
            ]
          },
          "metadata": {
            "tags": []
          },
          "execution_count": 52
        }
      ]
    },
    {
      "cell_type": "markdown",
      "metadata": {
        "id": "fX7-quD2hnzB"
      },
      "source": [
        "## Decoding"
      ]
    },
    {
      "cell_type": "markdown",
      "metadata": {
        "id": "WCgW9d9ohsGv"
      },
      "source": [
        "Now you can finally implement the simple Viterbi decoder. The `model` object, when applied to an input sentence, first calculates the scores for each possible output tag for each token. See the expression `model.forward_on_instance(s)['tag_logits']` in the code above.\n",
        "\n",
        "Then, you will construct a transition matrix. You can use the code below to get a list of the tags the model knows about. For a set of K tags, construct a K-by-K matrix with a log(1)=0 when a transition between a given tag pair is valid and a log(0)=-infinity otherwise.\n",
        "\n",
        "Finally, implement a Viterbi decoder that takes the model object and a dataset object and outputs tagged data, just like the `tag_sentence` function above. It should use the Viterbi algorithm with the (max, plus) semiring. You'll be working with sums of log probabilities instead of products of probabilties.\n",
        "\n",
        "Run your `violations` function on the output of this decoder to make sure that there are no invalid tag transitions. Also, compare the span-level metrics on `baseline_output` and your new output using your `span_stats` function."
      ]
    },
    {
      "cell_type": "code",
      "metadata": {
        "id": "nlP8vZhiS68K",
        "colab": {
          "base_uri": "https://localhost:8080/"
        },
        "outputId": "9cd19114-4b03-491e-8233-5a0ae4a5eaec"
      },
      "source": [
        "# This code shows how to map from output vector components to labels\n",
        "print(vocab.get_index_to_token_vocabulary('labels'))"
      ],
      "execution_count": null,
      "outputs": [
        {
          "output_type": "stream",
          "text": [
            "{0: 'O', 1: 'B-GPE', 2: 'I-ORG', 3: 'I-DATE', 4: 'B-CARDINAL', 5: 'I-EVENT', 6: 'B-PERSON', 7: 'B-NORP', 8: 'B-DATE', 9: 'B-ORG', 10: 'B-LOC', 11: 'I-LOC', 12: 'I-FAC', 13: 'I-PERSON', 14: 'I-GPE', 15: 'I-CARDINAL', 16: 'B-EVENT', 17: 'I-TIME', 18: 'I-WORK_OF_ART', 19: 'B-ORDINAL', 20: 'B-FAC', 21: 'B-TIME', 22: 'I-LAW', 23: 'I-QUANTITY', 24: 'I-NORP', 25: 'I-MONEY', 26: 'B-MONEY', 27: 'B-WORK_OF_ART', 28: 'B-QUANTITY', 29: 'B-LAW', 30: 'B-PRODUCT', 31: 'I-PRODUCT', 32: 'B-PERCENT', 33: 'I-PERCENT'}\n"
          ],
          "name": "stdout"
        }
      ]
    },
    {
      "cell_type": "code",
      "metadata": {
        "id": "hhkBaAne5dKp"
      },
      "source": [
        "n_inf = float(\"-inf\")\n",
        "transition_matrix = list()\n",
        "\n",
        "initial_prob = []\n",
        "vocab_dict = vocab.get_index_to_token_vocabulary('labels')\n",
        "for ind in vocab_dict:\n",
        "    label = vocab_dict[ind]\n",
        "    if label == 'O' or label.startswith(\"B\"):\n",
        "        initial_prob.append(0)\n",
        "    else:\n",
        "        initial_prob.append(n_inf)\n",
        "\n",
        "for row in vocab_dict:\n",
        "    row_label = vocab_dict[row]\n",
        "    cur_tag = ''\n",
        "    if row_label != 'O':\n",
        "        cur_tag = row_label[2:]\n",
        "    new_list = list()\n",
        "    for col in vocab_dict:\n",
        "        col_label = vocab_dict[col]\n",
        "        if row_label == 'O':\n",
        "            if col_label =='O' or col_label.startswith(\"B\"):\n",
        "                new_list.append(0)\n",
        "            else:\n",
        "                new_list.append(n_inf)\n",
        "        else:\n",
        "            if col_label.startswith(\"B\") or (col_label.startswith(\"I\") and cur_tag == col_label[2:]) or col_label == 'O':\n",
        "                new_list.append(0)\n",
        "            else:\n",
        "                new_list.append(n_inf)\n",
        "    transition_matrix.append(new_list)\n",
        "trans_prob = np.array(transition_matrix)"
      ],
      "execution_count": null,
      "outputs": []
    },
    {
      "cell_type": "code",
      "metadata": {
        "id": "KuND0lYghnzv"
      },
      "source": [
        "def viterbi_decoder(s):\n",
        "    obs_likelyhood = model.forward_on_instance(s)['tag_logits']\n",
        "    emission_prob = np.array(obs_likelyhood)\n",
        "    \n",
        "    T = len(emission_prob)\n",
        "    N = len(vocab_dict)\n",
        "    \n",
        "    viterabi = np.array([[0.0 for j in range(T)] for i in range(N)])\n",
        "    backpointers = np.array([[-1 for j in range(T)] for i in range(N)])\n",
        "    \n",
        "    for i in range(T):\n",
        "        if i==0:\n",
        "            viterabi[:,0]= np.add(initial_prob, emission_prob[i])\n",
        "        else:\n",
        "            for j in range(N):\n",
        "                viterabi[j,i]= np.max(np.add(trans_prob[:,j] , viterabi[:,i-1])) + emission_prob[i,j]\n",
        "                backpointers[j,i] = np.argmax(np.add(trans_prob[:,j] , viterabi[:,i-1]))\n",
        "    ind = np.argmax(viterabi[:,i])\n",
        "    tag_ids = []\n",
        "    while ind != -1:\n",
        "        tag_ids.append(ind)\n",
        "        ind = backpointers[ind,i]\n",
        "        i -= 1\n",
        "    tag_ids.reverse()\n",
        "    fields = zip(s['tokens'], s['tags'], [model.vocab.get_token_from_index(i, 'labels') for i in tag_ids])\n",
        "    return list(fields)\n",
        "    \n",
        "    \n",
        "baseline_viterbi_outputs = [viterbi_decoder(i) for i in validation_dataset]   "
      ],
      "execution_count": null,
      "outputs": []
    },
    {
      "cell_type": "code",
      "metadata": {
        "colab": {
          "base_uri": "https://localhost:8080/"
        },
        "id": "fyDm3HG2lAY2",
        "outputId": "a2f10f4d-3518-4611-91ae-26e62539df83"
      },
      "source": [
        "violations(baseline_viterbi_outputs)"
      ],
      "execution_count": null,
      "outputs": [
        {
          "output_type": "execute_result",
          "data": {
            "text/plain": [
              "0"
            ]
          },
          "metadata": {
            "tags": []
          },
          "execution_count": 56
        }
      ]
    },
    {
      "cell_type": "code",
      "metadata": {
        "colab": {
          "base_uri": "https://localhost:8080/"
        },
        "id": "WrRS71r4obiT",
        "outputId": "97c766bb-675e-44b7-c0d1-3651168948b8"
      },
      "source": [
        "span_stats(baseline_viterbi_outputs)"
      ],
      "execution_count": null,
      "outputs": [
        {
          "output_type": "execute_result",
          "data": {
            "text/plain": [
              "{'f1': 0.16560509554140126,\n",
              " 'precision': 0.5652173913043478,\n",
              " 'recall': 0.09701492537313433}"
            ]
          },
          "metadata": {
            "tags": []
          },
          "execution_count": 57
        }
      ]
    },
    {
      "cell_type": "code",
      "metadata": {
        "id": "GA-E--X7YD16"
      },
      "source": [
        ""
      ],
      "execution_count": null,
      "outputs": []
    }
  ]
}