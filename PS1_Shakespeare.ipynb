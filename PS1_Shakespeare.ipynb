{
  "nbformat": 4,
  "nbformat_minor": 0,
  "metadata": {
    "colab": {
      "name": "PS1-Shakespeare.ipynb",
      "provenance": [],
      "collapsed_sections": []
    },
    "kernelspec": {
      "name": "python3",
      "display_name": "Python 3"
    }
  },
  "cells": [
    {
      "cell_type": "markdown",
      "metadata": {
        "id": "ghmXbcymaHxC"
      },
      "source": [
        "In this experiment, you will train models to distringuish examples of two different genres of Shakespeare's plays: comedies and tragedies. (We'll ignore the histories, sonnets, etc.) Since he died four hundred years ago, Shakespeare has not written any more plays—although scraps of various other works have come to light. We are not, therefore, interested in building models simply to help categorize an unbounded stream of future documents, as we might be in other applications of text classification; rather, we are interested in what a classifier might have to tell us about what we mean by the terms “comedy” and “tragedy”.\n",
        "\n",
        "You will start by copying and running your `createBasicFeatures` function from the experiment with movie reviews. Do the features the classifier focuses on tell you much about comedy and tragedy in general?\n",
        "\n",
        "You will then implement another featurization function `createInterestingFeatures`, which will focus on only those features you think are informative for distinguishing between comedy and tragedy. Accuracy on leave-one-out cross-validation may go up, but it more important to look at the features given the highest weight by the classifier. Interpretability in machine learning, of course, may be harder to define than accuracy—although accuracy at some tasks such as summarization is hard enoough."
      ]
    },
    {
      "cell_type": "code",
      "metadata": {
        "id": "AdVS67_HNRmW",
        "colab": {
          "base_uri": "https://localhost:8080/"
        },
        "outputId": "be050658-8103-45ad-b307-0b11efd1e58b"
      },
      "source": [
        "import json\n",
        "import requests\n",
        "from sklearn.linear_model import LogisticRegression\n",
        "from sklearn.model_selection import cross_validate,LeaveOneOut\n",
        "import numpy as np\n",
        "import nltk\n",
        "from nltk.stem import PorterStemmer,WordNetLemmatizer\n",
        "from nltk.util import ngrams\n",
        "from nltk.tag import pos_tag\n",
        "from nltk.corpus import stopwords\n",
        "nltk.download('punkt')\n",
        "import sklearn\n",
        "from sklearn.feature_extraction.text import CountVectorizer"
      ],
      "execution_count": 52,
      "outputs": [
        {
          "output_type": "stream",
          "text": [
            "[nltk_data] Downloading package punkt to /root/nltk_data...\n",
            "[nltk_data]   Unzipping tokenizers/punkt.zip.\n"
          ],
          "name": "stdout"
        }
      ]
    },
    {
      "cell_type": "code",
      "metadata": {
        "id": "PzjMY8fYQbB6"
      },
      "source": [
        "#read in the shakespeare corpus\n",
        "def readShakespeare():\n",
        "  raw = requests.get(\"https://raw.githubusercontent.com/mutherr/CS6120-PS1-data/master/shakespeare_plays.json\").text.strip()\n",
        "  corpus = [json.loads(line) for line in raw.split(\"\\n\")]\n",
        "\n",
        "  #remove histories from the data, as we're only working with tragedies and comedies\n",
        "  corpus = [entry for entry in corpus if entry[\"genre\"] != \"history\"]\n",
        "  return corpus"
      ],
      "execution_count": 2,
      "outputs": []
    },
    {
      "cell_type": "markdown",
      "metadata": {
        "id": "v0r3oL3TdHIU"
      },
      "source": [
        "This is where you will implement two functions to featurize the data:"
      ]
    },
    {
      "cell_type": "code",
      "metadata": {
        "id": "039fPQcF7OkN"
      },
      "source": [
        "#NB: The current contents are for testing only\n",
        "#This function should return: \n",
        "#  -a sparse numpy matrix of document features\n",
        "#  -a list of the correct genre for each document\n",
        "#  -a list of the vocabulary used by the features, such that the ith term of the\n",
        "#    list is the word whose counts appear in the ith column of the matrix. \n",
        "\n",
        "# This function should create a feature representation using all tokens that\n",
        "# contain an alphabetic character.\n",
        "def createBasicFeatures(corpus):\n",
        "  #Your code here\n",
        "  text = [ doc['text'] for doc in corpus ]\n",
        "  v = CountVectorizer(token_pattern=r'\\b[a-zA-Z]{1,}\\b',)\n",
        "  X = v.fit_transform(text)\n",
        "  vocab = v.get_feature_names()\n",
        "  texts = X.toarray()\n",
        "  genres = list()\n",
        "  for idx in range(len(corpus)):\n",
        "      genres.append(corpus[idx][\"genre\"])\n",
        "  return texts,genres,vocab\n",
        "\n",
        "# This function can add other features you want that help classification\n",
        "# accuracy, such as bigrams, word prefixes and suffixes, etc.\n",
        "def createInterestingFeatures(corpus):\n",
        "  #Your code here\n",
        "  text = [ doc['text'] for doc in corpus ]\n",
        "  token_txt = [ nltk.word_tokenize(i) for i in text]\n",
        "  word_lemma = WordNetLemmatizer()\n",
        "  lemmatized_words = []\n",
        "\n",
        "  for tkn in token_txt:\n",
        "    lemma = [word_lemma.lemmatize(w).lower() for w in tkn if w not in set(stopwords.words('english'))] #Performed Lemmatization\n",
        "    pos = pos_tag(lemma) # Applied Parts of Speech Tagging \n",
        "    tags = ['NNP','DT','PRP','PRP$','NNPS','IN','NN','FW'] \n",
        "    cleaned_text = [word for (word,tag) in pos if tag not in tags] # Identified and removed Nouns,Determinants, Foreign words, Prepositions\n",
        "    processed_text = \" \".join(cleaned_text)\n",
        "    lemmatized_words.append(processed_text)\n",
        "    \n",
        "  v = CountVectorizer(token_pattern=r'[a-zA-Z]{1,}',ngram_range=(1,3))\n",
        "  texts = v.fit_transform(lemmatized_words)\n",
        "  vocab = v.get_feature_names()\n",
        "  genres = list()\n",
        "  for idx in range(len(corpus)):\n",
        "      genres.append(corpus[idx][\"genre\"])\n",
        "  return texts,genres,vocab"
      ],
      "execution_count": 111,
      "outputs": []
    },
    {
      "cell_type": "code",
      "metadata": {
        "id": "KfTBqBltXe7Y"
      },
      "source": [
        "#given a numpy matrix representation of the features for the training set, the \n",
        "# vector of true classes for each example, and the vocabulary as described \n",
        "# above, this computes the accuracy of the model using leave one out cross \n",
        "# validation and reports the most indicative features for each class\n",
        "def evaluateModel(X,y,vocab,penalty=\"l1\"):\n",
        "  #create and fit the model\n",
        "  model = LogisticRegression(penalty=penalty,solver=\"liblinear\")\n",
        "  results = cross_validate(model,X,y,cv=LeaveOneOut())\n",
        "  \n",
        "  #determine the average accuracy\n",
        "  scores = results[\"test_score\"]\n",
        "  avg_score = sum(scores)/len(scores)\n",
        "  \n",
        "  #determine the most informative features\n",
        "  # this requires us to fit the model to everything, because we need a\n",
        "  # single model to draw coefficients from, rather than 26\n",
        "  model.fit(X,y)\n",
        "  neg_class_prob_sorted = model.coef_[0, :].argsort()\n",
        "  pos_class_prob_sorted = (-model.coef_[0, :]).argsort()\n",
        "\n",
        "  termsToTake = 20\n",
        "  pos_indicators = [vocab[i] for i in neg_class_prob_sorted[:termsToTake]]\n",
        "  neg_indicators = [vocab[i] for i in pos_class_prob_sorted[:termsToTake]]\n",
        "\n",
        "  return avg_score,pos_indicators,neg_indicators\n",
        "\n",
        "def runEvaluation(X,y,vocab):\n",
        "  print(\"----------L1 Norm-----------\")\n",
        "  avg_score,pos_indicators,neg_indicators = evaluateModel(X,y,vocab,\"l1\")\n",
        "  print(\"The model's average accuracy is %f\"%avg_score)\n",
        "  print(\"The most informative terms for pos are: %s\"%pos_indicators)\n",
        "  print(\"The most informative terms for neg are: %s\"%neg_indicators)\n",
        "  #this call will fit a model with L2 normalization\n",
        "  print(\"----------L2 Norm-----------\")\n",
        "  avg_score,pos_indicators,neg_indicators = evaluateModel(X,y,vocab,\"l2\")\n",
        "  print(\"The model's average accuracy is %f\"%avg_score)\n",
        "  print(\"The most informative terms for pos are: %s\"%pos_indicators)\n",
        "  print(\"The most informative terms for neg are: %s\"%neg_indicators)\n",
        "  "
      ],
      "execution_count": 11,
      "outputs": []
    },
    {
      "cell_type": "code",
      "metadata": {
        "id": "mtlbg_aqdcW_"
      },
      "source": [
        "corpus = readShakespeare()"
      ],
      "execution_count": 6,
      "outputs": []
    },
    {
      "cell_type": "markdown",
      "metadata": {
        "id": "vpCqIhiqdhen"
      },
      "source": [
        "Run the following to train and evaluate two models with basic features:"
      ]
    },
    {
      "cell_type": "code",
      "metadata": {
        "id": "4IpJ7PKjvc8I",
        "colab": {
          "base_uri": "https://localhost:8080/"
        },
        "outputId": "fe3d5aa4-9f43-45ff-f49f-633562d545fa"
      },
      "source": [
        "X,y,vocab = createBasicFeatures(corpus)\n",
        "runEvaluation(X, y, vocab)"
      ],
      "execution_count": 9,
      "outputs": [
        {
          "output_type": "stream",
          "text": [
            "----------L1 Norm-----------\n",
            "The model's average accuracy is 0.615385\n",
            "The most informative terms for pos are: ['you', 'duke', 'prospero', 'i', 'helena', 'sir', 'leontes', 'a', 'private', 'preserving', 'preservers', 'preserver', 'preserved', 'preserve', 'preservative', 'president', 'preservation', 'presents', 'presentment', 'presently']\n",
            "The most informative terms for neg are: ['him', 's', 'iago', 'imogen', 'o', 'brutus', 'lear', 'and', 'rom', 'ham', 'the', 'preserving', 'preservers', 'preserver', 'pretext', 'preserved', 'pretending', 'president', 'preservative', 'preservation']\n",
            "----------L2 Norm-----------\n",
            "The model's average accuracy is 0.769231\n",
            "The most informative terms for pos are: ['i', 'you', 'duke', 'prospero', 'a', 'helena', 'your', 'antonio', 'sir', 'leontes', 'hermia', 'for', 'lysander', 'ariel', 'sebastian', 'demetrius', 'camillo', 'stephano', 'me', 'parolles']\n",
            "The most informative terms for neg are: ['iago', 'othello', 's', 'him', 'imogen', 'what', 'lear', 'brutus', 'his', 'cassio', 'o', 'ham', 'our', 'desdemona', 'rom', 'romeo', 'posthumus', 'nurse', 'caesar', 'thy']\n"
          ],
          "name": "stdout"
        }
      ]
    },
    {
      "cell_type": "markdown",
      "metadata": {
        "id": "_FmW9F6ZdoyM"
      },
      "source": [
        "Run the following to train and evaluate two models with features that are interesting for distinguishing comedy and tragedy:"
      ]
    },
    {
      "cell_type": "code",
      "metadata": {
        "id": "BW0Ajs2MdtIC",
        "colab": {
          "base_uri": "https://localhost:8080/"
        },
        "outputId": "5ab1e7af-4a05-49d6-cfdc-94c642905546"
      },
      "source": [
        "X,y,vocab = createInterestingFeatures(corpus)\n",
        "runEvaluation(X, y, vocab)"
      ],
      "execution_count": 112,
      "outputs": [
        {
          "output_type": "stream",
          "text": [
            "----------L1 Norm-----------\n",
            "The model's average accuracy is 0.538462\n",
            "The most informative terms for pos are: ['never', 'sebastian', 'love', 'leontes', 'duke', 'say', 'antipholus', 'well', 'sweet', 'parolles', 'antonio', 'sir', 'relate', 'rejoicing yet ere', 'rejoicingly merry', 'rejoicing yet', 'rejoicing see profess', 'rejoicingly merry clothes', 'rejoicing see', 'rejoicingly']\n",
            "The most informative terms for neg are: ['noble', 'nurse', 'queen', 'iago', 'achilles', 'lear', 'caesar', 'macbeth', 'timon', 'thy', 'othello', 'release brother', 'rejoicingly merry', 'rejoicingly', 'rejoicing yet ere', 'releas isabel', 'rejoicing see profess', 'rejoicing see', 'rejoicing ignorant promised', 'rejoicing ignorant']\n",
            "----------L2 Norm-----------\n",
            "The model's average accuracy is 0.730769\n",
            "The most informative terms for pos are: ['sebastian', 'duke', 'sir', 'parolles', 'antipholus', 'love', 'would', 'antonio', 'leontes', 'one', 'say', 'never', 'well', 'sweet', 'ariel', 'therefore', 'signior', 'helena', 'three', 'ring']\n",
            "The most informative terms for neg are: ['lear', 'macbeth', 'queen', 'nurse', 'noble', 'thy', 'iago', 'rome', 'dead', 'othello', 'caesar', 'timon', 'ham', 'lucius', 'u', 'general', 'men', 'cloten', 'juliet', 'romeo']\n"
          ],
          "name": "stdout"
        }
      ]
    },
    {
      "cell_type": "markdown",
      "metadata": {
        "id": "X311Yw3Y3oJd"
      },
      "source": [
        "## **Observations**\r\n",
        "\r\n",
        "When used the basic features, the importance was given to proper nouns, pronouns, verbs like is, which do not identify or distinguish between two genres. \r\n",
        "But still, the accuracy observed with basic features was 61.5% for L1 Norm and 76.9% for L2 norm.\r\n",
        "\r\n",
        "For interesting features, after performing lemmatization and removing proper nouns, nouns, prepositions, foreign words and using uni,bi and tri-grams,\r\n",
        "the important features are slightly relatable to the genre but surprisingly, the accuracy decreased."
      ]
    },
    {
      "cell_type": "code",
      "metadata": {
        "id": "tXMwF_Gu37uO"
      },
      "source": [
        ""
      ],
      "execution_count": null,
      "outputs": []
    }
  ]
}